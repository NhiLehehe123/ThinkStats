{
 "cells": [
  {
   "cell_type": "markdown",
   "id": "c5847292",
   "metadata": {},
   "source": [
    "This notebook is the first part of a tutorial on Time Series Analysis using StatsModels.\n",
    "\n",
    "It is based on Chapter 12 of [*Think Stats*, third edition](https://allendowney.github.io/ThinkStats/)."
   ]
  },
  {
   "cell_type": "markdown",
   "id": "07d4536a",
   "metadata": {},
   "source": [
    "# Time series analysis\n",
    "\n",
    "A **time series** is a sequence of measurements from a system that varies in time.\n",
    "Many of the tools we used in previous chapters, like regression, can also be used with time series.\n",
    "But there are additional methods that are particularly useful for this kind of data.\n",
    "\n",
    "As examples, we'll look at two datasets: renewable electricity generation in the United States from 2001 to 2024, and weather data over the same interval.\n",
    "We will develop methods to decompose a time series into a long-term trend and a repeated seasonal component.\n",
    "We'll use linear regression models to fit and forecast trends.\n",
    "And we'll try out a widely-used model for analyzing time series data, with the formal name \"autoregressive integrated moving average\" and the easier-to-say acronym ARIMA."
   ]
  },
  {
   "cell_type": "markdown",
   "id": "80e566fe",
   "metadata": {
    "tags": []
   },
   "source": [
    "[Click here to run this notebook on Colab](https://colab.research.google.com/github/AllenDowney/ThinkStats/blob/v3/tutorial/ts/time_series_01.ipynb)."
   ]
  },
  {
   "cell_type": "code",
   "execution_count": null,
   "id": "4cc439af",
   "metadata": {
    "tags": []
   },
   "outputs": [],
   "source": [
    "try:\n",
    "    import empiricaldist\n",
    "except ImportError:\n",
    "    !pip install empiricaldist"
   ]
  },
  {
   "cell_type": "code",
   "execution_count": null,
   "id": "afc7a155",
   "metadata": {
    "tags": []
   },
   "outputs": [],
   "source": [
    "from os.path import basename, exists\n",
    "\n",
    "\n",
    "def download(url):\n",
    "    filename = basename(url)\n",
    "    if not exists(filename):\n",
    "        from urllib.request import urlretrieve\n",
    "\n",
    "        local, _ = urlretrieve(url, filename)\n",
    "        print(\"Downloaded \" + local)\n",
    "\n",
    "\n",
    "download(\"https://github.com/AllenDowney/ThinkStats/raw/v3/nb/thinkstats.py\")"
   ]
  },
  {
   "cell_type": "code",
   "execution_count": null,
   "id": "0005d1b2",
   "metadata": {
    "tags": []
   },
   "outputs": [],
   "source": [
    "import numpy as np\n",
    "import pandas as pd\n",
    "import matplotlib.pyplot as plt\n",
    "\n",
    "from thinkstats import decorate"
   ]
  },
  {
   "cell_type": "markdown",
   "id": "1e5e86b8",
   "metadata": {},
   "source": [
    "## Electricity\n",
    "\n",
    "As an example of time-series data, we'll use a dataset from the U.S. Energy Information Administration -- it includes total electricity generation per month from renewable sources from 2001 to 2024."
   ]
  },
  {
   "cell_type": "code",
   "execution_count": null,
   "id": "135faa25",
   "metadata": {},
   "outputs": [],
   "source": [
    "# The following cell downloads the data, which I downloaded September 17, 2024\n",
    "# from https://www.eia.gov/electricity/data/browser/"
   ]
  },
  {
   "cell_type": "code",
   "execution_count": null,
   "id": "9c7d832a",
   "metadata": {},
   "outputs": [],
   "source": [
    "filename = \"Net_generation_for_all_sectors.csv\"\n",
    "download(\"https://github.com/AllenDowney/ThinkStats/raw/v3/data/\" + filename)"
   ]
  },
  {
   "cell_type": "markdown",
   "id": "9998c16f",
   "metadata": {},
   "source": [
    "After loading the data, we have make some transformations to get it into a format that's easy to work with."
   ]
  },
  {
   "cell_type": "code",
   "execution_count": null,
   "id": "24c72696",
   "metadata": {},
   "outputs": [],
   "source": [
    "elec = (\n",
    "    pd.read_csv(\"Net_generation_for_all_sectors.csv\", skiprows=4)\n",
    "    .drop(columns=[\"units\", \"source key\"])\n",
    "    .set_index(\"description\")\n",
    "    .replace(\"--\", np.nan)\n",
    "    .transpose()\n",
    "    .astype(float)\n",
    ")"
   ]
  },
  {
   "cell_type": "markdown",
   "id": "e01db0c6",
   "metadata": {},
   "source": [
    "In the reformatted dataset, each column is a sequence of monthly totals in gigawatt-hours (GWh).\n",
    "Here are the column labels, showing the different sources of electricity, or \"sectors\"."
   ]
  },
  {
   "cell_type": "code",
   "execution_count": null,
   "id": "b0be7703",
   "metadata": {},
   "outputs": [],
   "source": [
    "elec.columns"
   ]
  },
  {
   "cell_type": "markdown",
   "id": "3bc15cdf",
   "metadata": {},
   "source": [
    "The labels in the index are strings indicating months and years -- here are the first 12."
   ]
  },
  {
   "cell_type": "code",
   "execution_count": null,
   "id": "3543ed12",
   "metadata": {},
   "outputs": [],
   "source": [
    "elec.index[:12]"
   ]
  },
  {
   "cell_type": "markdown",
   "id": "14bd8136",
   "metadata": {},
   "source": [
    "It will be easier to work with this data if we replace these strings with Pandas `Timestamp` objects.\n",
    "We can use the `date_range` function to generate a sequence of `Timestamp` objects, starting in January 2001 with the frequency code `\"ME\"`, which stands for \"month end\", so it fills in the last day of each month."
   ]
  },
  {
   "cell_type": "code",
   "execution_count": null,
   "id": "4e24a4eb",
   "metadata": {},
   "outputs": [],
   "source": [
    "elec.index = pd.date_range(start=\"2001-01\", periods=len(elec), freq=\"ME\")\n",
    "elec.index[:6]"
   ]
  },
  {
   "cell_type": "markdown",
   "id": "d3a686bf",
   "metadata": {},
   "source": [
    "Now the index is a `DataTimeIndex` with the data type `datetime64[ns]`, which is defined in NumPy -- `64` means each one uses 64 bits, and `ns` means it has nanosecond precision. "
   ]
  },
  {
   "cell_type": "markdown",
   "id": "b2b5aee0",
   "metadata": {},
   "source": [
    "## Decomposition\n",
    "\n",
    "As a first example, we'll look at how electricity generation from nuclear reactors has changed over from January 2001 to June 2024, and we'll decompose the time series into a long-term trend and a periodic component.\n",
    "Here are monthly totals of electricity generation from nuclear reactors in the United States. "
   ]
  },
  {
   "cell_type": "code",
   "execution_count": null,
   "id": "5a307620",
   "metadata": {},
   "outputs": [],
   "source": [
    "nuclear = elec[\"United States : nuclear\"]\n",
    "nuclear.plot(label=\"nuclear\")\n",
    "\n",
    "decorate(ylabel=\"GWh\")"
   ]
  },
  {
   "cell_type": "markdown",
   "id": "9a66a7d9",
   "metadata": {},
   "source": [
    "It looks like there are some increases and decreases, but they are hard to see clearly because there are large variations from month to month.\n",
    "To see the long-term trend more clearly, we can use the `rolling` and `mean` methods to compute a **moving average**."
   ]
  },
  {
   "cell_type": "code",
   "execution_count": null,
   "id": "7114c7c1",
   "metadata": {
    "tags": []
   },
   "outputs": [],
   "source": [
    "#fill"
   ]
  },
  {
   "cell_type": "markdown",
   "id": "005e1203",
   "metadata": {},
   "source": [
    "The `window=12` argument means it should select overlapping intervals of 12 months, so the first interval contains 12 measurements starting with the first, the second interval contains 12 measurements starting with the second, and so on.\n",
    "For each interval, we compute the mean of the measurements.\n",
    "\n",
    "Here's what the results look like, along with the original data."
   ]
  },
  {
   "cell_type": "code",
   "execution_count": null,
   "id": "1afb182d",
   "metadata": {},
   "outputs": [],
   "source": [
    "nuclear.plot(label=\"nuclear\")\n",
    "trend.plot(label=\"trend\")\n",
    "decorate(ylabel=\"GWh\")"
   ]
  },
  {
   "cell_type": "markdown",
   "id": "041b941e",
   "metadata": {},
   "source": [
    "The trend is still quite variable.\n",
    "We could smooth it more by using a longer window, but we'll stick with the 12-month window for now.\n",
    "\n",
    "If we subtract the trend from the original data, the result is a \"detrended\" time series, which means that the long-term mean is close to constant.\n",
    "Here's what it looks like."
   ]
  },
  {
   "cell_type": "code",
   "execution_count": null,
   "id": "16082b56",
   "metadata": {
    "tags": []
   },
   "outputs": [],
   "source": [
    "#fill"
   ]
  },
  {
   "cell_type": "code",
   "execution_count": null,
   "id": "608e6249",
   "metadata": {},
   "outputs": [],
   "source": [
    "detrended.plot(label=\"detrended\")\n",
    "decorate(ylabel=\"GWh\")"
   ]
  },
  {
   "cell_type": "markdown",
   "id": "021c95a3",
   "metadata": {},
   "source": [
    "It seems like there is a repeating annual pattern, which makes sense because demand for electricity varies from one season to another, as it is used to generate heat in the winter and run air conditioning in the summer.\n",
    "To describe this annual pattern we can group the data by month and compute average production.\n",
    "Here's what the monthly averages look like."
   ]
  },
  {
   "cell_type": "code",
   "execution_count": null,
   "id": "9e3436b8",
   "metadata": {
    "tags": []
   },
   "outputs": [],
   "source": [
    "#fill"
   ]
  },
  {
   "cell_type": "code",
   "execution_count": null,
   "id": "fea70db7",
   "metadata": {},
   "outputs": [],
   "source": [
    "monthly_averages.plot(label=\"monthly average\")\n",
    "decorate(ylabel=\"GWh\")"
   ]
  },
  {
   "cell_type": "markdown",
   "id": "5020077e",
   "metadata": {},
   "source": [
    "Electricity production is highest during the coldest and warmest months.\n",
    "\n",
    "We can use `monthly_averages` to construct the seasonal component of the data, which is a series the same length as `nuclear`, where the element for each month is the average for that month.\n",
    "Here's what it looks like."
   ]
  },
  {
   "cell_type": "code",
   "execution_count": null,
   "id": "57836943",
   "metadata": {
    "tags": []
   },
   "outputs": [],
   "source": [
    "#fill"
   ]
  },
  {
   "cell_type": "code",
   "execution_count": null,
   "id": "4d21a405",
   "metadata": {},
   "outputs": [],
   "source": [
    "seasonal.plot(label='seasonal')\n",
    "decorate(ylabel=\"GWh\")"
   ]
  },
  {
   "cell_type": "markdown",
   "id": "0fc137a8",
   "metadata": {},
   "source": [
    "Each 12-month period is identical to the others.\n",
    "\n",
    "The sum of the trend and the seasonal component represents the expected value for each month."
   ]
  },
  {
   "cell_type": "code",
   "execution_count": null,
   "id": "21b20b77",
   "metadata": {
    "tags": []
   },
   "outputs": [],
   "source": [
    "#fill"
   ]
  },
  {
   "cell_type": "markdown",
   "id": "24a5f0fd",
   "metadata": {},
   "source": [
    "Here's what it looks like compared to the original series."
   ]
  },
  {
   "cell_type": "code",
   "execution_count": null,
   "id": "f445fe23",
   "metadata": {},
   "outputs": [],
   "source": [
    "nuclear.plot(label=\"actual\", alpha=0.6)\n",
    "expected.plot(color=\"C1\", alpha=0.6, label=\"expected\")\n",
    "decorate(ylabel=\"GWh\")"
   ]
  },
  {
   "cell_type": "markdown",
   "id": "e2fc73c2",
   "metadata": {},
   "source": [
    "If we subtract this sum from the original series, the result is the residual component, which represents the departure from the expected value for each month."
   ]
  },
  {
   "cell_type": "code",
   "execution_count": null,
   "id": "1787a0d2",
   "metadata": {
    "tags": []
   },
   "outputs": [],
   "source": [
    "#fill"
   ]
  },
  {
   "cell_type": "code",
   "execution_count": null,
   "id": "68ea7b46",
   "metadata": {},
   "outputs": [],
   "source": [
    "resid.plot(label=\"residual\")\n",
    "decorate(ylabel=\"GWh\")"
   ]
  },
  {
   "cell_type": "markdown",
   "id": "562be99d",
   "metadata": {},
   "source": [
    "We can think of the residual as the sum of everything in the world that affects energy production, but is not explained by the long-term trend or the seasonal component.\n",
    "Among other things, that sum includes weather, equipment that's down for maintenance, and changes in demand due to specific events.\n",
    "Since the residual is the sum of many unpredictable, and sometimes unknowable, factors, we often treat it as a random quantity.\n",
    "\n",
    "Here's what the distribution of the residuals look like."
   ]
  },
  {
   "cell_type": "code",
   "execution_count": null,
   "id": "480a040d",
   "metadata": {},
   "outputs": [],
   "source": [
    "from thinkstats import plot_kde\n",
    "\n",
    "plot_kde(resid.dropna())\n",
    "decorate(xlabel=\"Residual (GWh)\")"
   ]
  },
  {
   "cell_type": "markdown",
   "id": "2b58a30e",
   "metadata": {},
   "source": [
    "It resembles the bell curve of the normal distribution, which is consistent with the assumption that it is the sum of many random contributions.\n",
    "\n",
    "To quantify how well this model describes the original series, we can compute the coefficient of determination, which indicates how much smaller the variance of the residuals is, compared to the variance of the original series."
   ]
  },
  {
   "cell_type": "code",
   "execution_count": null,
   "id": "4c209222",
   "metadata": {
    "tags": []
   },
   "outputs": [],
   "source": [
    "#fill"
   ]
  },
  {
   "cell_type": "markdown",
   "id": "f1e8f7c9",
   "metadata": {},
   "source": [
    "The $R^2$ value is about 0.92, which means that the long-term trend and seasonal component account for 92% of the variability in the series.\n",
    "This $R^2$ is substantially higher than the ones we saw in the previous chapter, but that's common with time series data -- especially in a case like this where we've constructed the model to resemble the data. \n",
    "\n",
    "The process we've just walked through is called **seasonal decomposition**.\n",
    "StatsModels provides a function that does it, called `seasonal_decompose`."
   ]
  },
  {
   "cell_type": "code",
   "execution_count": null,
   "id": "e0d7b7d4",
   "metadata": {
    "tags": []
   },
   "outputs": [],
   "source": [
    "#fill"
   ]
  },
  {
   "cell_type": "markdown",
   "id": "2aef3d02",
   "metadata": {},
   "source": [
    "The `model=\"additive\"` argument indicates the additive model, so the series is decomposed into the sum of a trend, seasonal component, and residual.\n",
    "We'll see the multiplicative model soon.\n",
    "The `period=12` argument indicates that the duration of the seasonal component is 12 months.\n",
    "\n",
    "The result is an object that contains the three components.\n",
    "We'll use the following function to plots them."
   ]
  },
  {
   "cell_type": "code",
   "execution_count": null,
   "id": "7a0b7c85",
   "metadata": {
    "tags": []
   },
   "outputs": [],
   "source": [
    "def plot_decomposition(original, decomposition):\n",
    "    plt.figure(figsize=(6, 5))\n",
    "\n",
    "    ax1 = plt.subplot(4, 1, 1)\n",
    "    plt.plot(original, label=\"Original\", color=\"C0\")\n",
    "    plt.ylabel(\"Original\")\n",
    "\n",
    "    plt.subplot(4, 1, 2, sharex=ax1)\n",
    "    plt.plot(decomposition.trend, label=\"Trend\", color=\"C1\")\n",
    "    plt.ylabel(\"Trend\")\n",
    "\n",
    "    plt.subplot(4, 1, 3, sharex=ax1)\n",
    "    plt.plot(decomposition.seasonal, label=\"Seasonal\", color=\"C2\")\n",
    "    plt.ylabel(\"Seasonal\")\n",
    "\n",
    "    plt.subplot(4, 1, 4, sharex=ax1)\n",
    "    plt.plot(decomposition.resid, label=\"Residual\", color=\"C3\")\n",
    "    plt.ylabel(\"Residual\")\n",
    "\n",
    "    plt.tight_layout()"
   ]
  },
  {
   "cell_type": "code",
   "execution_count": null,
   "id": "89f01bdd",
   "metadata": {},
   "outputs": [],
   "source": [
    "plot_decomposition(nuclear, decomposition)"
   ]
  },
  {
   "cell_type": "markdown",
   "id": "1a056c8e",
   "metadata": {},
   "source": [
    "The results are similar to those computed ourselves, with small differences due to the details of the implementation.\n",
    "\n",
    "This kind of seasonal decomposition provides insight into the structure of a time series.\n",
    "As we'll see in the next section, it is also useful for making forecasts."
   ]
  },
  {
   "cell_type": "markdown",
   "id": "91cb38d9",
   "metadata": {},
   "source": [
    "### Exercise\n",
    "\n",
    "As an example of seasonal decomposition, let's model monthly average surface temperatures in the United States.\n",
    "We'll use a dataset from Our World in Data that includes \"temperature [in Celsius] of the air measured 2 meters above the ground, encompassing land, sea, and in-land water surfaces,\" for most countries in the world from 1941 to 2024."
   ]
  },
  {
   "cell_type": "code",
   "execution_count": null,
   "id": "dc14a6fe",
   "metadata": {
    "tags": []
   },
   "outputs": [],
   "source": [
    "# The following cell downloads data prepared by Our World in Data,\n",
    "# from https://ourworldindata.org/grapher/average-monthly-surface-temperature\n",
    "\n",
    "# Based on modified data from Copernicus Climate Change Service information (2019)\n",
    "# with \"major processing\" by Our World in Data"
   ]
  },
  {
   "cell_type": "markdown",
   "id": "44e0cdec",
   "metadata": {},
   "source": [
    "The following cells download and display the metadata that describes the dataset."
   ]
  },
  {
   "cell_type": "code",
   "execution_count": null,
   "id": "d3dde99d",
   "metadata": {},
   "outputs": [],
   "source": [
    "import requests\n",
    "\n",
    "# Define the URL\n",
    "url = \"https://ourworldindata.org/grapher/average-monthly-surface-temperature.metadata.json\"\n",
    "query_params = {\n",
    "    \"v\": \"1\",\n",
    "    \"csvType\": \"full\",\n",
    "    \"useColumnShortNames\": \"true\"\n",
    "}\n",
    "headers = {'User-Agent': 'Our World In Data data fetch/1.0'}\n",
    "\n",
    "# Send the GET request with the query parameters\n",
    "response = requests.get(url, params=query_params, headers=headers)\n",
    "metadata = response.json()"
   ]
  },
  {
   "cell_type": "code",
   "execution_count": null,
   "id": "7bff6523",
   "metadata": {},
   "outputs": [],
   "source": [
    "from pprint import pprint\n",
    "\n",
    "pprint(metadata['columns']['temperature_2m'])"
   ]
  },
  {
   "cell_type": "markdown",
   "id": "ca2c84fe",
   "metadata": {},
   "source": [
    "The following cells download the data for one country -- feel free to change `country_code` if you would like to see data from another country.\n",
    "Use [three-letter ISO 3166 country codes](https://en.wikipedia.org/wiki/List_of_ISO_3166_country_codes#Current_ISO_3166_country_codes)."
   ]
  },
  {
   "cell_type": "code",
   "execution_count": null,
   "id": "e67cd17e",
   "metadata": {},
   "outputs": [],
   "source": [
    "country_code = 'USA'    # replace this with other three-letter country codes\n",
    "base_url = \"https://ourworldindata.org/grapher/average-monthly-surface-temperature.csv\"\n",
    "\n",
    "query_params = {\n",
    "    \"v\": \"1\",\n",
    "    \"csvType\": \"filtered\",\n",
    "    \"useColumnShortNames\": \"true\",\n",
    "    \"tab\": \"chart\",\n",
    "    \"country\": country_code  \n",
    "}"
   ]
  },
  {
   "cell_type": "code",
   "execution_count": null,
   "id": "c3a2dfba",
   "metadata": {},
   "outputs": [],
   "source": [
    "from urllib.parse import urlencode\n",
    "\n",
    "url = f\"{base_url}?{urlencode(query_params)}\"\n",
    "temp_df = pd.read_csv(url, storage_options=headers)"
   ]
  },
  {
   "cell_type": "code",
   "execution_count": null,
   "id": "a0327bef",
   "metadata": {},
   "outputs": [],
   "source": [
    "# If direct access to OWID doesn't work, uncomment these\n",
    "# lines to download and read the CSV file\n",
    "\n",
    "# filename = 'owid_temperature_usa.csv'\n",
    "# download(\"https://github.com/AllenDowney/ThinkStats/raw/v3/data/\" + filename)\n",
    "# temp_df = pd.read_csv(filename)"
   ]
  },
  {
   "cell_type": "code",
   "execution_count": null,
   "id": "07695f36",
   "metadata": {},
   "outputs": [],
   "source": [
    "temp_df.head()"
   ]
  },
  {
   "cell_type": "markdown",
   "id": "436277b1",
   "metadata": {},
   "source": [
    "The `DataFrame` includes the column that's documented in the metadata, `temperature_2m`, and an additional undocumented column.\n",
    "It looks like it might be an annual average.\n",
    "For this example, we'll use the monthly data."
   ]
  },
  {
   "cell_type": "code",
   "execution_count": null,
   "id": "011be2e7",
   "metadata": {
    "tags": []
   },
   "outputs": [],
   "source": [
    "#fill"
   ]
  },
  {
   "cell_type": "code",
   "execution_count": null,
   "id": "13561698",
   "metadata": {
    "tags": []
   },
   "outputs": [],
   "source": [
    "#fill"
   ]
  },
  {
   "cell_type": "markdown",
   "id": "3b5eb86b",
   "metadata": {},
   "source": [
    "Here's what it looks like."
   ]
  },
  {
   "cell_type": "code",
   "execution_count": null,
   "id": "ee1361c9",
   "metadata": {},
   "outputs": [],
   "source": [
    "temp_series.plot(label=country_code)\n",
    "decorate(ylabel=\"Surface temperature (degC)\")"
   ]
  },
  {
   "cell_type": "markdown",
   "id": "90dcca2a",
   "metadata": {},
   "source": [
    "Not surprisingly, there is a strong seasonal pattern.\n",
    "Compute an additive seasonal decomposition with a period of 12 months, and use `seasonal_decompose` to plot the results.\n",
    "Compute the $R^2$ value of the fitted model."
   ]
  },
  {
   "cell_type": "code",
   "execution_count": null,
   "id": "1826ce41",
   "metadata": {},
   "outputs": [],
   "source": [
    "# Solution goes here"
   ]
  },
  {
   "cell_type": "code",
   "execution_count": null,
   "id": "59e0ae9b",
   "metadata": {},
   "outputs": [],
   "source": [
    "# Solution goes here"
   ]
  },
  {
   "cell_type": "markdown",
   "id": "2aa8ccda",
   "metadata": {},
   "source": [
    "## Prediction\n",
    "\n",
    "We can use the results from seasonal decomposition to predict the future.\n",
    "To demonstrate, we'll use the following function to split the time series into a training series we'll use to generate predictions and a test series we'll use to see whether they are accurate. "
   ]
  },
  {
   "cell_type": "code",
   "execution_count": null,
   "id": "2b7a40ab",
   "metadata": {},
   "outputs": [],
   "source": [
    "def split_series(series, n=60):\n",
    "    training = series.iloc[:-n]\n",
    "    test = series.iloc[-n:]\n",
    "    return training, test"
   ]
  },
  {
   "cell_type": "markdown",
   "id": "624b771f",
   "metadata": {},
   "source": [
    "With `n=60`, the duration of the test series is five years, starting in July 2019."
   ]
  },
  {
   "cell_type": "code",
   "execution_count": null,
   "id": "1e5c806c",
   "metadata": {},
   "outputs": [],
   "source": [
    "training, test = split_series(nuclear)\n",
    "test.index[0]"
   ]
  },
  {
   "cell_type": "markdown",
   "id": "f8756a7d",
   "metadata": {},
   "source": [
    "Now, suppose it's June 2019 and you are asked to generate a five-year forecast for electricity production from nuclear generators.\n",
    "To answer this question, we'll start with a seasonal decomposition of the training data."
   ]
  },
  {
   "cell_type": "code",
   "execution_count": null,
   "id": "24ebb8d8",
   "metadata": {},
   "outputs": [],
   "source": [
    "decomposition = seasonal_decompose(training, model=\"additive\", period=12)\n",
    "trend = decomposition.trend"
   ]
  },
  {
   "cell_type": "markdown",
   "id": "e4254254",
   "metadata": {},
   "source": [
    "Now we'll fit a linear model to the trend.\n",
    "The dependent variable, `months`, is the number of months from the beginning of the series."
   ]
  },
  {
   "cell_type": "code",
   "execution_count": null,
   "id": "ebc387b5",
   "metadata": {},
   "outputs": [],
   "source": [
    "import statsmodels.formula.api as smf\n",
    "\n",
    "months = np.arange(len(trend))\n",
    "data = pd.DataFrame({\"trend\": trend, \"months\": months}).dropna()\n",
    "results = smf.ols(\"trend ~ months\", data=data).fit()"
   ]
  },
  {
   "cell_type": "markdown",
   "id": "dc85c541",
   "metadata": {},
   "source": [
    "Here is a summary of the results."
   ]
  },
  {
   "cell_type": "code",
   "execution_count": null,
   "id": "2ba00cce",
   "metadata": {},
   "outputs": [],
   "source": [
    "from thinkstats import display_summary\n",
    "\n",
    "display_summary(results)"
   ]
  },
  {
   "cell_type": "markdown",
   "id": "17762ce7",
   "metadata": {},
   "source": [
    "The $R^2$ value is about 0.35, which suggests that the model does not fit the data particularly well.\n",
    "We can get a better sense of that by plotting the fitted line.\n",
    "We'll use the `predict` method to retrodict the values in the training data and predict the values in the test data."
   ]
  },
  {
   "cell_type": "code",
   "execution_count": null,
   "id": "27250c4b",
   "metadata": {},
   "outputs": [],
   "source": [
    "months = np.arange(len(training) + len(test))\n",
    "df = pd.DataFrame({\"months\": months})\n",
    "pred_trend = results.predict(df)\n",
    "pred_trend.index = nuclear.index"
   ]
  },
  {
   "cell_type": "markdown",
   "id": "ae67f0ff",
   "metadata": {},
   "source": [
    "Here's the trend component and the linear model."
   ]
  },
  {
   "cell_type": "code",
   "execution_count": null,
   "id": "19431e17",
   "metadata": {},
   "outputs": [],
   "source": [
    "trend.plot(color=\"C1\")\n",
    "pred_trend.plot(color=\"0.6\", label=\"linear model\")\n",
    "decorate(ylabel=\"GWh\")"
   ]
  },
  {
   "cell_type": "markdown",
   "id": "72fedefe",
   "metadata": {},
   "source": [
    "There's a lot going on that's not captured by the linear model, but it looks like there is a generally increasing trend.\n",
    "\n",
    "Next we'll use the seasonal component from the decomposition to compute a `Series` of monthly averages."
   ]
  },
  {
   "cell_type": "code",
   "execution_count": null,
   "id": "bceec2d8",
   "metadata": {},
   "outputs": [],
   "source": [
    "seasonal = decomposition.seasonal\n",
    "monthly_averages = seasonal.groupby(seasonal.index.month).mean()"
   ]
  },
  {
   "cell_type": "markdown",
   "id": "9a491c1a",
   "metadata": {},
   "source": [
    "We can predict the seasonal component by looking up the dates from the fitted line in `monthly_averages`."
   ]
  },
  {
   "cell_type": "code",
   "execution_count": null,
   "id": "4c0376d2",
   "metadata": {},
   "outputs": [],
   "source": [
    "pred_seasonal = monthly_averages[pred_trend.index.month]\n",
    "pred_seasonal.index = pred_trend.index"
   ]
  },
  {
   "cell_type": "markdown",
   "id": "dd6004ae",
   "metadata": {},
   "source": [
    "Finally, to generate predictions, we'll add the seasonal component to the trend."
   ]
  },
  {
   "cell_type": "code",
   "execution_count": null,
   "id": "06d4493a",
   "metadata": {},
   "outputs": [],
   "source": [
    "pred = pred_trend + pred_seasonal"
   ]
  },
  {
   "cell_type": "markdown",
   "id": "25dd9831",
   "metadata": {},
   "source": [
    "Here's the training data and the predictions."
   ]
  },
  {
   "cell_type": "code",
   "execution_count": null,
   "id": "e89d5140",
   "metadata": {},
   "outputs": [],
   "source": [
    "training.plot(label=\"training\")\n",
    "pred.plot(color=\"0.8\", label=\"prediction\")\n",
    "decorate(ylabel=\"GWh\")"
   ]
  },
  {
   "cell_type": "markdown",
   "id": "784fd2d1",
   "metadata": {},
   "source": [
    "The predictions fit the training data reasonably well, and the forecast looks like a reasonable projection, based on the assumption that the long-term trend will continue.\n",
    "\n",
    "Now, from the vantage point of the future, let's see how accurate this forecast turned out to be.\n",
    "Here is are the predicted and actual values for the five-year interval from July 2019. "
   ]
  },
  {
   "cell_type": "code",
   "execution_count": null,
   "id": "4b71363e",
   "metadata": {},
   "outputs": [],
   "source": [
    "forecast = pred[test.index]\n",
    "forecast.plot(ls=\"--\", color=\"0.6\", label=\"predicted\")\n",
    "test.plot(label=\"actual\")\n",
    "decorate(ylabel=\"GWh\")"
   ]
  },
  {
   "cell_type": "markdown",
   "id": "3f015679",
   "metadata": {},
   "source": [
    "The first year of the forecast was pretty good, but production from nuclear reactors in 2020 was lower than expected -- probably due to the COVID-19 pandemic -- and it never returned to the long-term trend.\n",
    "\n",
    "To quantify the accuracy of the predictions, we'll use the mean absolute percentage error (MAPE), which the following function computes."
   ]
  },
  {
   "cell_type": "code",
   "execution_count": null,
   "id": "1a9bd82a",
   "metadata": {},
   "outputs": [],
   "source": [
    "def MAPE(predicted, actual):\n",
    "    ape = np.abs(predicted - actual) / actual\n",
    "    return np.mean(ape) * 100"
   ]
  },
  {
   "cell_type": "markdown",
   "id": "08329c29",
   "metadata": {},
   "source": [
    "In this example, the predictions are off by 3.81% on average."
   ]
  },
  {
   "cell_type": "code",
   "execution_count": null,
   "id": "39623bae",
   "metadata": {},
   "outputs": [],
   "source": [
    "MAPE(forecast, test)"
   ]
  },
  {
   "cell_type": "markdown",
   "id": "7163a837",
   "metadata": {},
   "source": [
    "We'll come back to this example later and see if we can do better with a different model."
   ]
  },
  {
   "cell_type": "markdown",
   "id": "e27da3a4",
   "metadata": {
    "tags": []
   },
   "source": [
    "[Think Stats: Exploratory Data Analysis in Python, 3rd Edition](https://allendowney.github.io/ThinkStats/index.html)\n",
    "\n",
    "Copyright 2024 [Allen B. Downey](https://allendowney.com)\n",
    "\n",
    "Code license: [MIT License](https://mit-license.org/)\n",
    "\n",
    "Text license: [Creative Commons Attribution-NonCommercial-ShareAlike 4.0 International](https://creativecommons.org/licenses/by-nc-sa/4.0/)"
   ]
  }
 ],
 "metadata": {
  "celltoolbar": "Tags",
  "kernelspec": {
   "display_name": "Python 3 (ipykernel)",
   "language": "python",
   "name": "python3"
  },
  "language_info": {
   "codemirror_mode": {
    "name": "ipython",
    "version": 3
   },
   "file_extension": ".py",
   "mimetype": "text/x-python",
   "name": "python",
   "nbconvert_exporter": "python",
   "pygments_lexer": "ipython3",
   "version": "3.10.14"
  }
 },
 "nbformat": 4,
 "nbformat_minor": 5
}
