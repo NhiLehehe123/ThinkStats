{
 "cells": [
  {
   "cell_type": "markdown",
   "id": "c5847292",
   "metadata": {},
   "source": [
    "This notebook is the second part of a tutorial on Time Series Analysis using StatsModels.\n",
    "\n",
    "It is based on Chapter 12 of [*Think Stats*, third edition](https://allendowney.github.io/ThinkStats/)."
   ]
  },
  {
   "cell_type": "markdown",
   "id": "80e566fe",
   "metadata": {
    "tags": []
   },
   "source": [
    "[Click here to run this notebook on Colab](https://colab.research.google.com/github/AllenDowney/ThinkStats/blob/v3/tutorial/time_series_02.ipynb)."
   ]
  },
  {
   "cell_type": "code",
   "execution_count": 2,
   "id": "afc7a155",
   "metadata": {
    "tags": []
   },
   "outputs": [],
   "source": [
    "from os.path import basename, exists\n",
    "\n",
    "\n",
    "def download(url):\n",
    "    filename = basename(url)\n",
    "    if not exists(filename):\n",
    "        from urllib.request import urlretrieve\n",
    "\n",
    "        local, _ = urlretrieve(url, filename)\n",
    "        print(\"Downloaded \" + local)\n",
    "\n",
    "\n",
    "download(\"https://github.com/AllenDowney/ThinkStats/raw/v3/nb/thinkstats.py\")"
   ]
  },
  {
   "cell_type": "code",
   "execution_count": 3,
   "id": "0005d1b2",
   "metadata": {
    "tags": []
   },
   "outputs": [],
   "source": [
    "import numpy as np\n",
    "import pandas as pd\n",
    "import matplotlib.pyplot as plt\n",
    "\n",
    "from thinkstats import decorate"
   ]
  },
  {
   "cell_type": "markdown",
   "id": "bf70ff26",
   "metadata": {},
   "source": [
    "## Material from the previous notebook"
   ]
  },
  {
   "cell_type": "code",
   "execution_count": 4,
   "id": "550b01c6",
   "metadata": {},
   "outputs": [],
   "source": [
    "# The following cell downloads the data, which I downloaded September 17, 2024\n",
    "# from https://www.eia.gov/electricity/data/browser/"
   ]
  },
  {
   "cell_type": "code",
   "execution_count": 5,
   "id": "b9343bb7",
   "metadata": {},
   "outputs": [],
   "source": [
    "filename = \"Net_generation_for_all_sectors.csv\"\n",
    "download(\"https://github.com/AllenDowney/ThinkStats/raw/v3/data/\" + filename)"
   ]
  },
  {
   "cell_type": "code",
   "execution_count": 6,
   "id": "c4c49391",
   "metadata": {},
   "outputs": [],
   "source": [
    "elec = (\n",
    "    pd.read_csv(\"Net_generation_for_all_sectors.csv\", skiprows=4)\n",
    "    .drop(columns=[\"units\", \"source key\"])\n",
    "    .set_index(\"description\")\n",
    "    .replace(\"--\", np.nan)\n",
    "    .transpose()\n",
    "    .astype(float)\n",
    ")"
   ]
  },
  {
   "cell_type": "code",
   "execution_count": 7,
   "id": "f73e4e65",
   "metadata": {
    "tags": []
   },
   "outputs": [],
   "source": [
    "import warnings\n",
    "\n",
    "warnings.simplefilter(action=\"ignore\", category=FutureWarning)"
   ]
  },
  {
   "cell_type": "code",
   "execution_count": 8,
   "id": "ef0f221e",
   "metadata": {},
   "outputs": [],
   "source": [
    "elec.index = pd.date_range(start=\"2001-01\", periods=len(elec), freq=\"M\")\n",
    "elec.index[:6]"
   ]
  },
  {
   "cell_type": "code",
   "execution_count": 9,
   "id": "24e67f12",
   "metadata": {},
   "outputs": [],
   "source": [
    "nuclear = elec[\"United States : nuclear\"]\n",
    "nuclear.plot(label=\"nuclear\")\n",
    "\n",
    "decorate(ylabel=\"GWh\")"
   ]
  },
  {
   "cell_type": "code",
   "execution_count": 10,
   "id": "62e9ace1",
   "metadata": {
    "tags": []
   },
   "outputs": [],
   "source": [
    "def plot_decomposition(original, decomposition):\n",
    "    plt.figure(figsize=(6, 5))\n",
    "\n",
    "    plt.subplot(4, 1, 1)\n",
    "    plt.plot(original, label=\"Original\", color=\"C0\")\n",
    "    plt.ylabel(\"Original\")\n",
    "\n",
    "    plt.subplot(4, 1, 2)\n",
    "    plt.plot(decomposition.trend, label=\"Trend\", color=\"C1\")\n",
    "    plt.ylabel(\"Trend\")\n",
    "\n",
    "    plt.subplot(4, 1, 3)\n",
    "    plt.plot(decomposition.seasonal, label=\"Seasonal\", color=\"C2\")\n",
    "    plt.ylabel(\"Seasonal\")\n",
    "\n",
    "    plt.subplot(4, 1, 4)\n",
    "    plt.plot(decomposition.resid, label=\"Residual\", color=\"C3\")\n",
    "    plt.ylabel(\"Residual\")\n",
    "\n",
    "    plt.tight_layout()"
   ]
  },
  {
   "cell_type": "code",
   "execution_count": 11,
   "id": "ba8b238a",
   "metadata": {
    "tags": []
   },
   "outputs": [],
   "source": [
    "# The following cell downloads data prepared by Our World in Data,\n",
    "# which I Downloaded September 18, 2024\n",
    "# from https://ourworldindata.org/grapher/average-monthly-surface-temperature\n",
    "\n",
    "# Based on modified data from Copernicus Climate Change Service information (2019)\n",
    "# with \"major processing\" by Our World in Data"
   ]
  },
  {
   "cell_type": "code",
   "execution_count": 12,
   "id": "c241d648",
   "metadata": {
    "tags": []
   },
   "outputs": [],
   "source": [
    "filename = \"monthly-average-surface-temperatures-by-year.csv\"\n",
    "download(\"https://github.com/AllenDowney/ThinkStats/raw/v3/data/\" + filename)"
   ]
  },
  {
   "cell_type": "code",
   "execution_count": 13,
   "id": "e65cb58e",
   "metadata": {},
   "outputs": [],
   "source": [
    "temp = pd.read_csv(\"monthly-average-surface-temperatures-by-year.csv\")"
   ]
  },
  {
   "cell_type": "code",
   "execution_count": 14,
   "id": "0a8e07ab",
   "metadata": {},
   "outputs": [],
   "source": [
    "temp_us = temp.query(\"Code == 'GHA'\")\n",
    "columns = [str(year) for year in range(2000, 2025)]\n",
    "temp_series = temp_us.loc[:, columns].transpose().stack()\n",
    "temp_series.index = pd.date_range(start=\"2000-01\", periods=len(temp_series), freq=\"M\")"
   ]
  },
  {
   "cell_type": "code",
   "execution_count": 15,
   "id": "23eab537",
   "metadata": {},
   "outputs": [],
   "source": [
    "def split_series(series, n=60):\n",
    "    training = series.iloc[:-n]\n",
    "    test = series.iloc[-n:]\n",
    "    return training, test"
   ]
  },
  {
   "cell_type": "code",
   "execution_count": 16,
   "id": "c9d00f39",
   "metadata": {},
   "outputs": [],
   "source": [
    "def MAPE(predicted, actual):\n",
    "    ape = np.abs(predicted - actual) / actual\n",
    "    return np.mean(ape) * 100"
   ]
  },
  {
   "cell_type": "markdown",
   "id": "507cd5a3",
   "metadata": {},
   "source": [
    "## Multiplicative Model\n",
    "\n",
    "The additive model we used in the previous section is based on the assumption that the time series is well modeled as the *sum* of a long-term trend, a seasonal component, and a residual -- which implies that the magnitude of the seasonal component and the residuals does not vary over time.\n",
    "\n",
    "As an example that violates this assumption, let's look at small-scale solar electricity production since 2014."
   ]
  },
  {
   "cell_type": "code",
   "execution_count": 17,
   "id": "9c282259",
   "metadata": {},
   "outputs": [],
   "source": [
    "solar = elec[\"United States : small-scale solar photovoltaic\"].dropna()\n",
    "solar.plot(label=\"solar\")\n",
    "decorate(ylabel=\"GWh\")"
   ]
  },
  {
   "cell_type": "markdown",
   "id": "2ee9a16b",
   "metadata": {},
   "source": [
    "Over this interval, total production has increased several times over.\n",
    "And it's clear that the magnitude of seasonal variation has increased as well.\n",
    "\n",
    "If we suppose that the magnitudes of seasonal and random variation are proportional to the magnitude of the trend, that suggests an alternative to the additive model in which the time series is the *product* of the three components.\n",
    "\n",
    "To try out this multiplicative model, we'll split this series into training and test sets."
   ]
  },
  {
   "cell_type": "code",
   "execution_count": 18,
   "id": "02b83eb4",
   "metadata": {},
   "outputs": [],
   "source": [
    "training, test = split_series(solar)"
   ]
  },
  {
   "cell_type": "markdown",
   "id": "84733478",
   "metadata": {},
   "source": [
    "And call `seasonal_decompose` with the `model=\"multiplicative\"` argument."
   ]
  },
  {
   "cell_type": "code",
   "execution_count": 19,
   "id": "0fc6a7c5",
   "metadata": {
    "tags": []
   },
   "outputs": [],
   "source": []
  },
  {
   "cell_type": "markdown",
   "id": "f9b48a46",
   "metadata": {},
   "source": [
    "Here's what the results look like."
   ]
  },
  {
   "cell_type": "code",
   "execution_count": 20,
   "id": "94442ac2",
   "metadata": {},
   "outputs": [],
   "source": [
    "plot_decomposition(training, decomposition)"
   ]
  },
  {
   "cell_type": "markdown",
   "id": "31b1cc92",
   "metadata": {},
   "source": [
    "Now the seasonal and residual components are multiplicative factors.\n",
    "So, it looks like the seasonal component varies from about 25% below the trend to 25% above.\n",
    "And the residual component is usually less than 5% either way, with the exception of some larger factors in the first period.\n",
    "We can extract the components of the model like this."
   ]
  },
  {
   "cell_type": "code",
   "execution_count": 21,
   "id": "fff495c7",
   "metadata": {},
   "outputs": [],
   "source": [
    "trend = decomposition.trend\n",
    "seasonal = decomposition.seasonal\n",
    "resid = decomposition.resid"
   ]
  },
  {
   "cell_type": "markdown",
   "id": "cfc065a4",
   "metadata": {},
   "source": [
    "The $R^2$ value of this model is very high."
   ]
  },
  {
   "cell_type": "code",
   "execution_count": 22,
   "id": "3efa8d97",
   "metadata": {},
   "outputs": [],
   "source": [
    "rsquared = 1 - resid.var() / training.var()\n",
    "rsquared"
   ]
  },
  {
   "cell_type": "markdown",
   "id": "8586333f",
   "metadata": {},
   "source": [
    "The production of a solar panel is largely a function of the sunlight it's exposed to, so it makes sense that production follows an annual cycle so closely.\n",
    "\n",
    "To predict the long term trend, we'll use a quadratic model."
   ]
  },
  {
   "cell_type": "code",
   "execution_count": 23,
   "id": "0a71ed5f",
   "metadata": {},
   "outputs": [],
   "source": [
    "import statsmodels.formula.api as smf\n",
    "\n",
    "months = range(len(training))\n",
    "data = pd.DataFrame({\"trend\": trend, \"months\": months}).dropna()\n",
    "results = smf.ols(\"trend ~ months + I(months**2)\", data=data).fit()"
   ]
  },
  {
   "cell_type": "markdown",
   "id": "f22a0b87",
   "metadata": {},
   "source": [
    "In the Patsy formula, the substring `I(months**2)` adds a quadratic term to the model, so we don't have to compute it explicitly.\n",
    "Here are the results."
   ]
  },
  {
   "cell_type": "code",
   "execution_count": 24,
   "id": "bbbd773b",
   "metadata": {},
   "outputs": [],
   "source": [
    "from thinkstats import display_summary\n",
    "\n",
    "display_summary(results)"
   ]
  },
  {
   "cell_type": "markdown",
   "id": "1d049dd9",
   "metadata": {},
   "source": [
    "The p-values of the linear and quadratic terms are very small, which suggests that the quadratic model captures more information about the trend than a linear model would -- and the $R^2$ value is very high.\n",
    "\n",
    "Now we can use the model to compute the expected value of the trend for the past and future."
   ]
  },
  {
   "cell_type": "code",
   "execution_count": 25,
   "id": "67edcfc9",
   "metadata": {
    "tags": []
   },
   "outputs": [],
   "source": []
  },
  {
   "cell_type": "markdown",
   "id": "32a22409",
   "metadata": {},
   "source": [
    "Here's what it looks like."
   ]
  },
  {
   "cell_type": "code",
   "execution_count": 26,
   "id": "9012aa32",
   "metadata": {},
   "outputs": [],
   "source": [
    "pred_trend.plot(color=\"0.8\", label=\"quadratic model\")\n",
    "trend.plot(color=\"C1\")\n",
    "decorate(ylabel=\"GWh\")"
   ]
  },
  {
   "cell_type": "markdown",
   "id": "1a65e44f",
   "metadata": {},
   "source": [
    "The quadratic model fits the past trend well.\n",
    "Now we can use the seasonal component to predict future seasonal variation."
   ]
  },
  {
   "cell_type": "code",
   "execution_count": 27,
   "id": "74a70a46",
   "metadata": {
    "tags": []
   },
   "outputs": [],
   "source": []
  },
  {
   "cell_type": "markdown",
   "id": "c6ff9937",
   "metadata": {},
   "source": [
    "Finally, to compute **retrodictions** for past values and predictions for the future, we multiply the trend and the seasonal component."
   ]
  },
  {
   "cell_type": "code",
   "execution_count": 28,
   "id": "3c604f0f",
   "metadata": {
    "tags": []
   },
   "outputs": [],
   "source": []
  },
  {
   "cell_type": "markdown",
   "id": "d5e5445f",
   "metadata": {},
   "source": [
    "Here is the result along with the training data."
   ]
  },
  {
   "cell_type": "code",
   "execution_count": 29,
   "id": "01308ed4",
   "metadata": {},
   "outputs": [],
   "source": [
    "training.plot(label=\"training\")\n",
    "pred.plot(alpha=0.6, color=\"0.6\", label=\"prediction\")\n",
    "decorate(ylabel=\"GWh\")"
   ]
  },
  {
   "cell_type": "markdown",
   "id": "10c1cca6",
   "metadata": {},
   "source": [
    "The retrodictions fit the training data well and the predictions seem plausible -- now let's see if they turned out to be accurate.\n",
    "Here are the predictions along with the test data."
   ]
  },
  {
   "cell_type": "code",
   "execution_count": 30,
   "id": "c969e6e5",
   "metadata": {},
   "outputs": [],
   "source": [
    "future = pred[test.index]\n",
    "future.plot(ls=\"--\", color=\"0.6\", label=\"prediction\")\n",
    "\n",
    "test.plot(label=\"actual\")\n",
    "decorate(ylabel=\"GWh\")"
   ]
  },
  {
   "cell_type": "markdown",
   "id": "8101ade3",
   "metadata": {},
   "source": [
    "For the first three years, the predictions are very good.\n",
    "After that, it looks like actual growth exceeded expectations.\n"
   ]
  },
  {
   "cell_type": "markdown",
   "id": "dca2c994",
   "metadata": {},
   "source": [
    "### Exercise\n",
    "\n",
    "In the previous example, we used a multiplicative seasonal decomposition to model electricity production from small-scale solar power from 2014 to 2019 and forecast production from 2019 to 2024.\n",
    "As an exercise, let's do the same with utility-scale solar power.\n",
    "Here's what the time series looks like."
   ]
  },
  {
   "cell_type": "code",
   "execution_count": 31,
   "id": "b11b3be5",
   "metadata": {},
   "outputs": [],
   "source": [
    "util_solar = elec[\"United States : all utility-scale solar\"].dropna()\n",
    "util_solar = util_solar[util_solar.index.year >= 2014]\n",
    "util_solar.plot()\n",
    "decorate(ylabel=\"GWh\")"
   ]
  },
  {
   "cell_type": "markdown",
   "id": "5f5250f9",
   "metadata": {},
   "source": [
    "Use `split_series` to split this data into a training and test series.\n",
    "Compute a multiplicative decomposition of the training series with a 12-month period.\n",
    "Fit a linear or quadratic model to the trend and generate a five-year forecast, including a seasonal component.\n",
    "Plot the forecast along with the test series, and compute the mean absolute percentage error (MAPE)."
   ]
  },
  {
   "cell_type": "code",
   "execution_count": 32,
   "id": "93efe0d0",
   "metadata": {},
   "outputs": [],
   "source": [
    "# Solution goes here"
   ]
  },
  {
   "cell_type": "code",
   "execution_count": 33,
   "id": "4b1e0839",
   "metadata": {},
   "outputs": [],
   "source": [
    "# Solution goes here"
   ]
  },
  {
   "cell_type": "code",
   "execution_count": 34,
   "id": "1d7f95d3",
   "metadata": {},
   "outputs": [],
   "source": [
    "# Solution goes here"
   ]
  },
  {
   "cell_type": "code",
   "execution_count": 35,
   "id": "30b236b0",
   "metadata": {},
   "outputs": [],
   "source": [
    "# Solution goes here"
   ]
  },
  {
   "cell_type": "code",
   "execution_count": 36,
   "id": "b13d8f51",
   "metadata": {},
   "outputs": [],
   "source": [
    "# Solution goes here"
   ]
  },
  {
   "cell_type": "code",
   "execution_count": 37,
   "id": "51467398",
   "metadata": {},
   "outputs": [],
   "source": [
    "# Solution goes here"
   ]
  },
  {
   "cell_type": "code",
   "execution_count": 38,
   "id": "bd0ba894",
   "metadata": {},
   "outputs": [],
   "source": [
    "# Solution goes here"
   ]
  },
  {
   "cell_type": "code",
   "execution_count": 39,
   "id": "052fcff7",
   "metadata": {},
   "outputs": [],
   "source": [
    "# Solution goes here"
   ]
  },
  {
   "cell_type": "code",
   "execution_count": 40,
   "id": "205e937e",
   "metadata": {},
   "outputs": [],
   "source": [
    "# Solution goes here"
   ]
  },
  {
   "cell_type": "markdown",
   "id": "e27da3a4",
   "metadata": {
    "tags": []
   },
   "source": [
    "[Think Stats: Exploratory Data Analysis in Python, 3rd Edition](https://allendowney.github.io/ThinkStats/index.html)\n",
    "\n",
    "Copyright 2024 [Allen B. Downey](https://allendowney.com)\n",
    "\n",
    "Code license: [MIT License](https://mit-license.org/)\n",
    "\n",
    "Text license: [Creative Commons Attribution-NonCommercial-ShareAlike 4.0 International](https://creativecommons.org/licenses/by-nc-sa/4.0/)"
   ]
  }
 ],
 "metadata": {
  "celltoolbar": "Tags",
  "kernelspec": {
   "display_name": "Python 3 (ipykernel)",
   "language": "python",
   "name": "python3"
  },
  "language_info": {
   "codemirror_mode": {
    "name": "ipython",
    "version": 3
   },
   "file_extension": ".py",
   "mimetype": "text/x-python",
   "name": "python",
   "nbconvert_exporter": "python",
   "pygments_lexer": "ipython3",
   "version": "3.10.14"
  }
 },
 "nbformat": 4,
 "nbformat_minor": 5
}
