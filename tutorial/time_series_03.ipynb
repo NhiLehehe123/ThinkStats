{
 "cells": [
  {
   "cell_type": "markdown",
   "id": "c5847292",
   "metadata": {},
   "source": [
    "This notebook is the third part of a tutorial on Time Series Analysis using StatsModels.\n",
    "\n",
    "It is based on Chapter 12 of [*Think Stats*, third edition](https://allendowney.github.io/ThinkStats/)."
   ]
  },
  {
   "cell_type": "markdown",
   "id": "80e566fe",
   "metadata": {
    "tags": []
   },
   "source": [
    "[Click here to run this notebook on Colab](https://colab.research.google.com/github/AllenDowney/ThinkStats/blob/v3/tutorial/ts/time_series_03.ipynb)."
   ]
  },
  {
   "cell_type": "code",
   "execution_count": null,
   "id": "4cc439af",
   "metadata": {
    "tags": []
   },
   "outputs": [],
   "source": [
    "try:\n",
    "    import empiricaldist\n",
    "except ImportError:\n",
    "    !pip install empiricaldist"
   ]
  },
  {
   "cell_type": "code",
   "execution_count": null,
   "id": "afc7a155",
   "metadata": {
    "tags": []
   },
   "outputs": [],
   "source": [
    "from os.path import basename, exists\n",
    "\n",
    "\n",
    "def download(url):\n",
    "    filename = basename(url)\n",
    "    if not exists(filename):\n",
    "        from urllib.request import urlretrieve\n",
    "\n",
    "        local, _ = urlretrieve(url, filename)\n",
    "        print(\"Downloaded \" + local)\n",
    "\n",
    "\n",
    "download(\"https://github.com/AllenDowney/ThinkStats/raw/v3/nb/thinkstats.py\")"
   ]
  },
  {
   "cell_type": "code",
   "execution_count": null,
   "id": "0005d1b2",
   "metadata": {
    "tags": []
   },
   "outputs": [],
   "source": [
    "import numpy as np\n",
    "import pandas as pd\n",
    "import matplotlib.pyplot as plt\n",
    "\n",
    "from thinkstats import decorate"
   ]
  },
  {
   "cell_type": "markdown",
   "id": "bf70ff26",
   "metadata": {},
   "source": [
    "## Material from the previous notebook"
   ]
  },
  {
   "cell_type": "code",
   "execution_count": null,
   "id": "b9343bb7",
   "metadata": {},
   "outputs": [],
   "source": [
    "filename = \"Net_generation_for_all_sectors.csv\"\n",
    "download(\"https://github.com/AllenDowney/ThinkStats/raw/v3/data/\" + filename)"
   ]
  },
  {
   "cell_type": "code",
   "execution_count": null,
   "id": "c4c49391",
   "metadata": {},
   "outputs": [],
   "source": [
    "elec = (\n",
    "    pd.read_csv(\"Net_generation_for_all_sectors.csv\", skiprows=4)\n",
    "    .drop(columns=[\"units\", \"source key\"])\n",
    "    .set_index(\"description\")\n",
    "    .replace(\"--\", np.nan)\n",
    "    .transpose()\n",
    "    .astype(float)\n",
    ")"
   ]
  },
  {
   "cell_type": "code",
   "execution_count": null,
   "id": "ef0f221e",
   "metadata": {},
   "outputs": [],
   "source": [
    "elec.index = pd.date_range(start=\"2001-01\", periods=len(elec), freq=\"ME\")"
   ]
  },
  {
   "cell_type": "code",
   "execution_count": null,
   "id": "a7068704",
   "metadata": {},
   "outputs": [],
   "source": [
    "nuclear = elec[\"United States : nuclear\"]\n",
    "nuclear.plot(label=\"nuclear\")\n",
    "\n",
    "decorate(ylabel=\"GWh\")"
   ]
  },
  {
   "cell_type": "code",
   "execution_count": null,
   "id": "23eab537",
   "metadata": {},
   "outputs": [],
   "source": [
    "def split_series(series, n=60):\n",
    "    training = series.iloc[:-n]\n",
    "    test = series.iloc[-n:]\n",
    "    return training, test"
   ]
  },
  {
   "cell_type": "code",
   "execution_count": null,
   "id": "c9d00f39",
   "metadata": {},
   "outputs": [],
   "source": [
    "def MAPE(predicted, actual):\n",
    "    ape = np.abs(predicted - actual) / actual\n",
    "    return np.mean(ape) * 100"
   ]
  },
  {
   "cell_type": "markdown",
   "id": "c482de2d",
   "metadata": {},
   "source": [
    "## Autoregression\n",
    "\n",
    "Seasonal decomposition worked well for modeling and predicting solar production, but in the previous example, it was not very effective for nuclear production.\n",
    "Let's see if we can do better with a different approach, autoregression.\n",
    "\n",
    "The first idea of autoregression is that the future will be like the past.\n",
    "For example, in the time series we've looked at so far, there is a clear annual cycle.\n",
    "So if you are asked to make a prediction for next June, a good starting place would be last June.\n",
    "\n",
    "To see how well that might work, let's go back to `nuclear`, which contains monthly electricity production from nuclear generators, and compute differences between the same month in successive years, which are called \"year-over-year\" differences."
   ]
  },
  {
   "cell_type": "code",
   "execution_count": null,
   "id": "b4fa2ae9",
   "metadata": {
    "tags": []
   },
   "outputs": [],
   "source": [
    "#fill"
   ]
  },
  {
   "cell_type": "code",
   "execution_count": null,
   "id": "95688a76",
   "metadata": {},
   "outputs": [],
   "source": [
    "diff.plot(label=\"year over year differences\")\n",
    "decorate(ylabel=\"GWh\")"
   ]
  },
  {
   "cell_type": "markdown",
   "id": "84ddfe79",
   "metadata": {},
   "source": [
    "The magnitudes of these differences are substantially smaller than the magnitudes of the original series, which suggests the second idea of autoregression, which is that it might be easier to predict these differences, rather than the original values.\n",
    "\n",
    "Toward that end, let's see if there are correlations between successive elements in the series of differences.\n",
    "If so, we could use those correlations to predict future values based on previous values.\n",
    "\n",
    "I'll start by making a `DataFrame`, putting the differences in the first column and putting  the same differences -- shifted by 1, 2, and 3 months -- into successive columns.\n",
    "These columns are named `lag1`, `lag2`, and `lag3`, because the series they contain have been **lagged** or delayed."
   ]
  },
  {
   "cell_type": "code",
   "execution_count": null,
   "id": "a9802c54",
   "metadata": {
    "tags": []
   },
   "outputs": [],
   "source": [
    "#fill"
   ]
  },
  {
   "cell_type": "markdown",
   "id": "90a0e1c7",
   "metadata": {},
   "source": [
    "Here are the correlations between these columns."
   ]
  },
  {
   "cell_type": "code",
   "execution_count": null,
   "id": "033380ee",
   "metadata": {},
   "outputs": [],
   "source": [
    "df_ar.corr()[[\"diff\"]]"
   ]
  },
  {
   "cell_type": "markdown",
   "id": "a4484fdd",
   "metadata": {},
   "source": [
    "The correlation between `diff` and `lag1` is called **serial correlation** because it is the correlation between successive elements in the series.\n",
    "The other correlations are called lagged correlations or **autocorrelations** -- the prefix \"auto\" indicates that we're taking the correlation of the series with itself.\n",
    "\n",
    "These correlation are strong enough to suggest that they should help with prediction, so let's put them into a multiple regression.\n",
    "The following function uses the columns from the `DataFrame` to make a Patsy formula with the first column as the dependent variable and the other columns as explanatory variable."
   ]
  },
  {
   "cell_type": "code",
   "execution_count": null,
   "id": "db891d77",
   "metadata": {},
   "outputs": [],
   "source": [
    "def make_formula(df):\n",
    "    \"\"\"Make a Patsy formula from column names.\"\"\"\n",
    "    y = df.columns[0]\n",
    "    xs = \" + \".join(df.columns[1:])\n",
    "    return f\"{y} ~ {xs}\""
   ]
  },
  {
   "cell_type": "markdown",
   "id": "49af729d",
   "metadata": {},
   "source": [
    "Here are the results of a linear model that predicts the next value in a sequence based on the previous three values."
   ]
  },
  {
   "cell_type": "code",
   "execution_count": null,
   "id": "553817f3",
   "metadata": {},
   "outputs": [],
   "source": [
    "import statsmodels.formula.api as smf\n",
    "\n",
    "formula = make_formula(df_ar)\n",
    "results_ar = smf.ols(formula=formula, data=df_ar).fit()"
   ]
  },
  {
   "cell_type": "code",
   "execution_count": null,
   "id": "55226d90",
   "metadata": {},
   "outputs": [],
   "source": [
    "from thinkstats import display_summary\n",
    "\n",
    "display_summary(results_ar)"
   ]
  },
  {
   "cell_type": "markdown",
   "id": "2239aa5b",
   "metadata": {},
   "source": [
    "Now we can use the `predict` method to generate predictions for the past values in the series.\n",
    "Here's what these retrodictions look like compared to the data."
   ]
  },
  {
   "cell_type": "code",
   "execution_count": null,
   "id": "ecb4135b",
   "metadata": {
    "tags": []
   },
   "outputs": [],
   "source": [
    "#fill"
   ]
  },
  {
   "cell_type": "code",
   "execution_count": null,
   "id": "b7ca967e",
   "metadata": {},
   "outputs": [],
   "source": [
    "diff.plot(alpha=0.6, label=\"differences\")\n",
    "pred_ar.plot(alpha=0.6, label=\"predictions\")\n",
    "decorate(ylabel=\"GWh\")"
   ]
  },
  {
   "cell_type": "markdown",
   "id": "2a696385",
   "metadata": {},
   "source": [
    "The predictions are good in some places, but the $R^2$ value is only about 0.319, so there is room for improvement."
   ]
  },
  {
   "cell_type": "code",
   "execution_count": null,
   "id": "2012d04d",
   "metadata": {
    "tags": []
   },
   "outputs": [],
   "source": [
    "#fill"
   ]
  },
  {
   "cell_type": "code",
   "execution_count": null,
   "id": "438edd07",
   "metadata": {},
   "outputs": [],
   "source": [
    "R2 = 1 - resid_ar.var() / diff.var()\n",
    "R2"
   ]
  },
  {
   "cell_type": "markdown",
   "id": "0dc9ee57",
   "metadata": {},
   "source": [
    "One way to improve the predictions is to compute the residuals from this model and use another model to predict the residuals -- which is the third idea of autoregression."
   ]
  },
  {
   "cell_type": "markdown",
   "id": "59515896",
   "metadata": {},
   "source": [
    "## Moving Average\n",
    "\n",
    "Suppose it's June 2019, and you are asked to make a prediction for June 2020.\n",
    "You first guess might be that this year's value will be repeated next year.\n",
    "\n",
    "Now suppose it's May 2020, and you are asked to revise your prediction for June 2020.\n",
    "You could use the results from the last three months, and the autocorrelation model from the previous section, to predict the year-over-year difference.\n",
    "\n",
    "Finally, suppose you check the predictions for the last few months, and see that they have been consistently too low.\n",
    "That suggests that the prediction for next month might also be too low, so you could revise it upward.\n",
    "The underlying assumption is that recent prediction errors predict future prediction errors.\n",
    "\n",
    "To see whether they do, we can make a `DataFrame` with the residuals from the autoregression model in the first column, and lagged versions of the residuals in the other columns.\n",
    "For this example, I'll use lags of 1 and 6 months."
   ]
  },
  {
   "cell_type": "code",
   "execution_count": null,
   "id": "c9b3b65a",
   "metadata": {
    "tags": []
   },
   "outputs": [],
   "source": [
    "#fill"
   ]
  },
  {
   "cell_type": "markdown",
   "id": "a13c6025",
   "metadata": {},
   "source": [
    "We can use `ols` to make an autoregression model for the residuals.\n",
    "This part of the model is called a \"moving average\" because it reduces variability in the predictions in a way that's analogous to the effect of a moving average.\n",
    "I don't find that term particularly helpful, but it is conventional.\n",
    "\n",
    "Anyway, here's a summary of the autoregression model for the residuals."
   ]
  },
  {
   "cell_type": "code",
   "execution_count": null,
   "id": "a90516c5",
   "metadata": {},
   "outputs": [],
   "source": [
    "formula = make_formula(df_ma)\n",
    "results_ma = smf.ols(formula=formula, data=df_ma).fit()\n",
    "display_summary(results_ma)"
   ]
  },
  {
   "cell_type": "markdown",
   "id": "bf2a3f0e",
   "metadata": {},
   "source": [
    "The $R^2$ is quite small, so it looks like this part of the model won't help very much.\n",
    "But the p-value for the 6-month lag is small, which suggests that it contributes more information than we'd expect by chance.\n",
    "\n",
    "Now we can use the model to generate retrodictions for the residuals."
   ]
  },
  {
   "cell_type": "code",
   "execution_count": null,
   "id": "099d7013",
   "metadata": {
    "tags": []
   },
   "outputs": [],
   "source": [
    "#fill"
   ]
  },
  {
   "cell_type": "markdown",
   "id": "3bbf7a0d",
   "metadata": {},
   "source": [
    "Then, to generate retrodictions for the year-over-year differences, we add the adjustment from the second model to the retrodictions from the first."
   ]
  },
  {
   "cell_type": "code",
   "execution_count": null,
   "id": "cd0854d0",
   "metadata": {
    "tags": []
   },
   "outputs": [],
   "source": [
    "#fill"
   ]
  },
  {
   "cell_type": "markdown",
   "id": "82338f56",
   "metadata": {},
   "source": [
    "The $R^2$ value for the sum of the two models is about 0.332, which is a little better than the result without the moving average adjustment (0.319)."
   ]
  },
  {
   "cell_type": "code",
   "execution_count": null,
   "id": "186ec8e2",
   "metadata": {
    "tags": []
   },
   "outputs": [],
   "source": [
    "#fill"
   ]
  },
  {
   "cell_type": "code",
   "execution_count": null,
   "id": "8da034da",
   "metadata": {},
   "outputs": [],
   "source": [
    "R2 = 1 - resid_ma.var() / diff.var()\n",
    "R2"
   ]
  },
  {
   "cell_type": "markdown",
   "id": "6bebc6c0",
   "metadata": {},
   "source": [
    "Next we'll use these year-over-year differences to generate retrodictions for the original values."
   ]
  },
  {
   "cell_type": "markdown",
   "id": "77306417",
   "metadata": {},
   "source": [
    "## Retrodiction with Autoregression\n",
    "\n",
    "To generate retrodictions, we'll start by putting the year-over-year differences in a `Series` that's aligned with the index of the original."
   ]
  },
  {
   "cell_type": "code",
   "execution_count": null,
   "id": "ca29a0dc",
   "metadata": {},
   "outputs": [],
   "source": [
    "pred_diff = pd.Series(pred_diff, index=nuclear.index)"
   ]
  },
  {
   "cell_type": "markdown",
   "id": "7b89dfe7",
   "metadata": {},
   "source": [
    "Using `isna` to check for `NaN` values, we find that the first 21 elements of the new `Series` are missing."
   ]
  },
  {
   "cell_type": "code",
   "execution_count": null,
   "id": "6bb6f9ce",
   "metadata": {},
   "outputs": [],
   "source": [
    "n_missing = pred_diff.isna().sum()"
   ]
  },
  {
   "cell_type": "markdown",
   "id": "2b8574ca",
   "metadata": {},
   "source": [
    "That's because we shifted the `Series` by 12 months to compute year-over-year differences, then we shifted the differences 3 months for the first autoregression model, and we shifted the residuals of the first model by 6 months for the second model.\n",
    "Each time we shift a series like this, we lose a few values at the beginning of the `Series`, and the sum of these shifts is 21.\n",
    "\n",
    "So before we can generate retrodictions, we have to prime the pump by copying the first 21 elements from the original into a new `Series`."
   ]
  },
  {
   "cell_type": "code",
   "execution_count": null,
   "id": "4d4fbca5",
   "metadata": {
    "tags": []
   },
   "outputs": [],
   "source": [
    "#fill"
   ]
  },
  {
   "cell_type": "markdown",
   "id": "7b45b143",
   "metadata": {},
   "source": [
    "Now we can run the following loop, which fills in the elements from index 21 (which is the 22nd element) to the end.\n",
    "Each element is the sum of the value from the previous year and the predicted year-over-year difference."
   ]
  },
  {
   "cell_type": "code",
   "execution_count": null,
   "id": "c428d2a6",
   "metadata": {
    "tags": []
   },
   "outputs": [],
   "source": [
    "#fill"
   ]
  },
  {
   "cell_type": "markdown",
   "id": "8fa8b2aa",
   "metadata": {},
   "source": [
    "Now we'll replace the elements we copied with `NaN` so we don't get credit for \"predicting\" the first 21 values perfectly."
   ]
  },
  {
   "cell_type": "code",
   "execution_count": null,
   "id": "553b5db3",
   "metadata": {
    "tags": []
   },
   "outputs": [],
   "source": [
    "#fill"
   ]
  },
  {
   "cell_type": "markdown",
   "id": "69d3f2ca",
   "metadata": {},
   "source": [
    "Here's what the retrodictions look like compared to the original."
   ]
  },
  {
   "cell_type": "code",
   "execution_count": null,
   "id": "bf59220e",
   "metadata": {},
   "outputs": [],
   "source": [
    "nuclear.plot(label=\"actual\", alpha=0.6)\n",
    "pred_series.plot(alpha=0.6, label=\"predicted\")\n",
    "\n",
    "decorate(ylabel=\"GWh\")"
   ]
  },
  {
   "cell_type": "markdown",
   "id": "ecc42626",
   "metadata": {},
   "source": [
    "They look pretty good, and the $R^2$ value is about 0.86."
   ]
  },
  {
   "cell_type": "code",
   "execution_count": null,
   "id": "02b72451",
   "metadata": {},
   "outputs": [],
   "source": [
    "resid = (nuclear - pred_series).dropna()"
   ]
  },
  {
   "cell_type": "code",
   "execution_count": null,
   "id": "dbf3ab79",
   "metadata": {},
   "outputs": [],
   "source": [
    "R2 = 1 - resid.var() / nuclear.var()\n",
    "R2"
   ]
  },
  {
   "cell_type": "markdown",
   "id": "1876fe15",
   "metadata": {},
   "source": [
    "The model we used to compute these retrodictions is called SARIMA, which is one of a family of models called ARIMA.\n",
    "Each part of these acronyms refers to an element of the model.\n",
    "\n",
    "* **S** stands for seasonal, because the first step was to compute differences between values separated by one seasonal period.\n",
    "\n",
    "* **AR** stands for autoregression, which we used to model lagged correlations in the differences.\n",
    "\n",
    "* **I** stands for integrated, because the iterative process we used to compute `pred_series` is analogous to integration in calculus.\n",
    "\n",
    "* **MA** stands for moving average, which is the conventional name for the second autoregression model we ran with the residuals from the first.\n",
    "\n",
    "ARIMA models are powerful and versatile tools for modeling time series data."
   ]
  },
  {
   "cell_type": "markdown",
   "id": "2c8f0a45",
   "metadata": {},
   "source": [
    "## ARIMA\n",
    "\n",
    "StatsModel provides a library called `tsa`, which stands for \"time series analysis\" -- it includes a function called `ARIMA` that fits ARIMA models and generates forecasts.\n",
    "\n",
    "To fit the SARIMA model we developed in the previous sections, we'll call this function with two tuples as arguments: `order` and `seasonal_order`.\n",
    "Here are the values in `order` that correspond to the model we used in the previous sections."
   ]
  },
  {
   "cell_type": "code",
   "execution_count": null,
   "id": "21b066b2",
   "metadata": {},
   "outputs": [],
   "source": [
    "order = ([1, 2, 3], 0, [1, 6])"
   ]
  },
  {
   "cell_type": "markdown",
   "id": "a279923b",
   "metadata": {},
   "source": [
    "The values in `order` indicate:\n",
    "\n",
    "* Which lags should be included in the AR model -- in this example it's the first three.\n",
    "\n",
    "* How many times it should compute differences between successive elements -- in this example it's 0 because we computed a seasonal difference instead, and we'll get to that in a minute.\n",
    "\n",
    "* Which lags should be included in the MA model -- in this example it's the first and sixth.\n",
    "\n",
    "Now here are the values in `seasonal_order`."
   ]
  },
  {
   "cell_type": "code",
   "execution_count": null,
   "id": "2e5994e1",
   "metadata": {},
   "outputs": [],
   "source": [
    "seasonal_order = (0, 1, 0, 12)"
   ]
  },
  {
   "cell_type": "markdown",
   "id": "a442ae4d",
   "metadata": {},
   "source": [
    "The first and third elements are 0, which means that this model does not include seasonal AR or seasonal MA.\n",
    "The second element is 1, which means it computes seasonal differences -- and the last element is the seasonal period.\n",
    "\n",
    "Here's how we use `ARIMA` to make and fit this model."
   ]
  },
  {
   "cell_type": "code",
   "execution_count": null,
   "id": "bac977ce",
   "metadata": {
    "tags": []
   },
   "outputs": [],
   "source": [
    "#fill"
   ]
  },
  {
   "cell_type": "markdown",
   "id": "c0004a46",
   "metadata": {},
   "source": [
    "The results include estimated coefficients for the three lags in the AR model, the two lags in the MA model, and `sigma2`, which is the variance of the residuals.\n",
    "\n",
    "From `results_arima` we can extract `fittedvalues`, which contains the retrodictions.\n",
    "For the same reason there were missing values at the beginning of the retrodictions we computed, there are incorrect values at the beginning of `fittedvalues`, which we'll drop."
   ]
  },
  {
   "cell_type": "code",
   "execution_count": null,
   "id": "5c46f054",
   "metadata": {
    "tags": []
   },
   "outputs": [],
   "source": [
    "#fill"
   ]
  },
  {
   "cell_type": "markdown",
   "id": "278065a9",
   "metadata": {},
   "source": [
    "The fitted values are similar to the ones we computed, but not exactly the same -- probably because `ARIMA` handles the initial conditions differently. "
   ]
  },
  {
   "cell_type": "code",
   "execution_count": null,
   "id": "721d43f5",
   "metadata": {},
   "outputs": [],
   "source": [
    "nuclear.plot(alpha=0.6, label=\"actual\")\n",
    "fittedvalues.plot(alpha=0.6, label=\"ARIMA model\")\n",
    "decorate(ylabel=\"GWh\")"
   ]
  },
  {
   "cell_type": "markdown",
   "id": "881934ad",
   "metadata": {},
   "source": [
    "The $R^2$ value is also similar but not precisely the same."
   ]
  },
  {
   "cell_type": "code",
   "execution_count": null,
   "id": "6ade0f39",
   "metadata": {},
   "outputs": [],
   "source": [
    "resid = fittedvalues - nuclear\n",
    "R2 = 1 - resid.var() / nuclear.var()\n",
    "R2"
   ]
  },
  {
   "cell_type": "markdown",
   "id": "7650362e",
   "metadata": {},
   "source": [
    "The `ARIMA` function makes it easy to experiment with different versions of the model."
   ]
  },
  {
   "cell_type": "markdown",
   "id": "69c7d949",
   "metadata": {
    "tags": []
   },
   "source": [
    "As an exercise, try out different values in `order` and `seasonal_order` and see if you can  find a model with higher $R^2$."
   ]
  },
  {
   "cell_type": "markdown",
   "id": "e7afff9d",
   "metadata": {},
   "source": [
    "## Prediction with ARIMA\n",
    "\n",
    "The object returned by `ARIMA` provides a method called `get_forecast` that generates predictions.\n",
    "To demonstrate, we'll split the time series into a training and test set, and fit the same model to the training set."
   ]
  },
  {
   "cell_type": "code",
   "execution_count": null,
   "id": "c5abb1b3",
   "metadata": {},
   "outputs": [],
   "source": [
    "training, test = split_series(nuclear)\n",
    "model = tsa.ARIMA(training, order=order, seasonal_order=seasonal_order)\n",
    "results_training = model.fit()"
   ]
  },
  {
   "cell_type": "markdown",
   "id": "f3cd408d",
   "metadata": {},
   "source": [
    "We can use the result to generate a forecast for the test set."
   ]
  },
  {
   "cell_type": "code",
   "execution_count": null,
   "id": "43e893bb",
   "metadata": {},
   "outputs": [],
   "source": [
    "forecast = results_training.get_forecast(steps=len(test))"
   ]
  },
  {
   "cell_type": "markdown",
   "id": "e829f848",
   "metadata": {},
   "source": [
    "The result is an object that contains an attribute called `forecast_mean` and a function that returns a confidence interval."
   ]
  },
  {
   "cell_type": "code",
   "execution_count": null,
   "id": "0db76919",
   "metadata": {},
   "outputs": [],
   "source": [
    "forecast_mean = forecast.predicted_mean\n",
    "forecast_ci = forecast.conf_int()\n",
    "forecast_ci.columns = [\"lower\", \"upper\"]"
   ]
  },
  {
   "cell_type": "markdown",
   "id": "d4e96dac",
   "metadata": {},
   "source": [
    "We can plot the results like this and compare them to the actual time series."
   ]
  },
  {
   "cell_type": "code",
   "execution_count": null,
   "id": "6ddaa65c",
   "metadata": {},
   "outputs": [],
   "source": [
    "plt.fill_between(\n",
    "    forecast_ci.index,\n",
    "    forecast_ci.lower,\n",
    "    forecast_ci.upper,\n",
    "    lw=0,\n",
    "    color=\"0.6\",\n",
    "    alpha=0.2,\n",
    ")\n",
    "plt.plot(forecast_mean.index, forecast_mean, \"--\", label=\"forecast\", color=\"0.6\")\n",
    "plt.plot(test.index, test, label=\"actual\")\n",
    "decorate(ylabel=\"GWh\")"
   ]
  },
  {
   "cell_type": "markdown",
   "id": "dfd5e8ef",
   "metadata": {},
   "source": [
    "The actual values fall almost entirely within the confidence interval of the predictions.\n",
    "Here's the MAPE of the predictions."
   ]
  },
  {
   "cell_type": "code",
   "execution_count": null,
   "id": "82f853e2",
   "metadata": {},
   "outputs": [],
   "source": [
    "MAPE(forecast_mean, test)"
   ]
  },
  {
   "cell_type": "markdown",
   "id": "1543d544",
   "metadata": {},
   "source": [
    "The predictions are off by 3.38% on average, somewhat better than the results we got from seasonal decomposition (3.81%).\n",
    "\n",
    "ARIMA is more versatile than seasonal decomposition, and can often make better predictions.\n",
    "In this time series, the autocorrelations are not especially strong, so the advantage of ARIMA is modest."
   ]
  },
  {
   "cell_type": "markdown",
   "id": "29959df5",
   "metadata": {},
   "source": [
    "### Exercise\n",
    "\n",
    "Let's see how well an ARIMA model fits production from hydroelectric generators in the United States.\n",
    "Here's what the time series looks like from 2001 to 2024."
   ]
  },
  {
   "cell_type": "code",
   "execution_count": null,
   "id": "a291b701",
   "metadata": {},
   "outputs": [],
   "source": [
    "hydro = elec[\"United States : conventional hydroelectric\"]\n",
    "hydro.plot()\n",
    "decorate(ylabel=\"GWh\")"
   ]
  },
  {
   "cell_type": "markdown",
   "id": "209401bb",
   "metadata": {},
   "source": [
    "Fit a SARIMA model to this data with a seasonal period of 12 months.\n",
    "Experiment with different lags in the autoregression and moving average parts of the model and see if you can find a combination that maximizes the $R^2$ value of the model.\n",
    "Generate a five-year forecast and plot it along with its confidence interval."
   ]
  },
  {
   "cell_type": "markdown",
   "id": "46e125f5",
   "metadata": {
    "tags": []
   },
   "source": [
    "NOTE: Depending on what lags you include in the model, you might find that the first 12 to 24 elements of the fitted values are not reliable. You might want to remove them before plotting or computing $R^2$."
   ]
  },
  {
   "cell_type": "code",
   "execution_count": null,
   "id": "dd3beec0",
   "metadata": {},
   "outputs": [],
   "source": [
    "# Solution goes here"
   ]
  },
  {
   "cell_type": "code",
   "execution_count": null,
   "id": "57747d2c",
   "metadata": {},
   "outputs": [],
   "source": [
    "# Solution goes here"
   ]
  },
  {
   "cell_type": "code",
   "execution_count": null,
   "id": "5303a04a",
   "metadata": {},
   "outputs": [],
   "source": [
    "# Solution goes here"
   ]
  },
  {
   "cell_type": "code",
   "execution_count": null,
   "id": "ed3f5523",
   "metadata": {},
   "outputs": [],
   "source": [
    "# Solution goes here"
   ]
  },
  {
   "cell_type": "code",
   "execution_count": null,
   "id": "a4399d65",
   "metadata": {},
   "outputs": [],
   "source": [
    "# Solution goes here"
   ]
  },
  {
   "cell_type": "code",
   "execution_count": null,
   "id": "9e5f29c5",
   "metadata": {},
   "outputs": [],
   "source": [
    "# Solution goes here"
   ]
  },
  {
   "cell_type": "code",
   "execution_count": null,
   "id": "1ae428fb",
   "metadata": {
    "scrolled": true
   },
   "outputs": [],
   "source": [
    "# Solution goes here"
   ]
  },
  {
   "cell_type": "markdown",
   "id": "db4799b6",
   "metadata": {},
   "source": [
    "## Glossary\n",
    "\n",
    "-   **time series**: A dataset where each value is associated with a specific time, often representing measurements taken at regular intervals.\n",
    "\n",
    "-   **seasonal decomposition:** A method of splitting a time series into a long-term trend, a repeating seasonal component, and a residual component.\n",
    "\n",
    "-   **retrodiction:** A prediction for a value observed in the past, often used to test or validate a model.\n",
    "\n",
    "-   **window**: A sequence of consecutive values in a time series, used to compute a moving average.\n",
    "\n",
    "-   **moving average**: A time series computed by averaging values in overlapping windows to smooth fluctuations.\n",
    "\n",
    "-   **serial correlation**: The correlation between a time series and a shifted or lagged version of itself.\n",
    "\n",
    "-   **lag**: The size of the shift in a serial correlation or autocorrelation.\n",
    "\n",
    "-   **autocorrelation**: The correlation between a time series and its lagged values, computed with different lags.\n"
   ]
  },
  {
   "cell_type": "markdown",
   "id": "e27da3a4",
   "metadata": {
    "tags": []
   },
   "source": [
    "[Think Stats: Exploratory Data Analysis in Python, 3rd Edition](https://allendowney.github.io/ThinkStats/index.html)\n",
    "\n",
    "Copyright 2024 [Allen B. Downey](https://allendowney.com)\n",
    "\n",
    "Code license: [MIT License](https://mit-license.org/)\n",
    "\n",
    "Text license: [Creative Commons Attribution-NonCommercial-ShareAlike 4.0 International](https://creativecommons.org/licenses/by-nc-sa/4.0/)"
   ]
  }
 ],
 "metadata": {
  "celltoolbar": "Tags",
  "kernelspec": {
   "display_name": "Python 3 (ipykernel)",
   "language": "python",
   "name": "python3"
  },
  "language_info": {
   "codemirror_mode": {
    "name": "ipython",
    "version": 3
   },
   "file_extension": ".py",
   "mimetype": "text/x-python",
   "name": "python",
   "nbconvert_exporter": "python",
   "pygments_lexer": "ipython3",
   "version": "3.10.14"
  }
 },
 "nbformat": 4,
 "nbformat_minor": 5
}
