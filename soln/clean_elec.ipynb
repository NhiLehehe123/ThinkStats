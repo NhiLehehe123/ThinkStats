{
 "cells": [
  {
   "cell_type": "code",
   "execution_count": 1,
   "id": "5a815d57",
   "metadata": {},
   "outputs": [
    {
     "data": {
      "application/javascript": [
       "\n",
       "            setTimeout(function() {\n",
       "                var nbb_cell_id = 1;\n",
       "                var nbb_unformatted_code = \"%load_ext nb_black\\n%load_ext autoreload\\n%autoreload 2\";\n",
       "                var nbb_formatted_code = \"%load_ext nb_black\\n%load_ext autoreload\\n%autoreload 2\";\n",
       "                var nbb_cells = Jupyter.notebook.get_cells();\n",
       "                for (var i = 0; i < nbb_cells.length; ++i) {\n",
       "                    if (nbb_cells[i].input_prompt_number == nbb_cell_id) {\n",
       "                        if (nbb_cells[i].get_text() == nbb_unformatted_code) {\n",
       "                             nbb_cells[i].set_text(nbb_formatted_code);\n",
       "                        }\n",
       "                        break;\n",
       "                    }\n",
       "                }\n",
       "            }, 500);\n",
       "            "
      ],
      "text/plain": [
       "<IPython.core.display.Javascript object>"
      ]
     },
     "metadata": {},
     "output_type": "display_data"
    }
   ],
   "source": [
    "%load_ext nb_black\n",
    "%load_ext autoreload\n",
    "%autoreload 2"
   ]
  },
  {
   "cell_type": "code",
   "execution_count": 2,
   "id": "cddf1967",
   "metadata": {
    "tags": [
     "remove-print",
     "hide-cell"
    ]
   },
   "outputs": [
    {
     "data": {
      "application/javascript": [
       "\n",
       "            setTimeout(function() {\n",
       "                var nbb_cell_id = 2;\n",
       "                var nbb_unformatted_code = \"from os.path import basename, exists\\n\\n\\ndef download(url):\\n    filename = basename(url)\\n    if not exists(filename):\\n        from urllib.request import urlretrieve\\n\\n        local, _ = urlretrieve(url, filename)\\n        print(\\\"Downloaded \\\" + local)\\n\\n\\ndownload(\\\"https://github.com/AllenDowney/ThinkStats/raw/v3/nb/thinkstats.py\\\")\";\n",
       "                var nbb_formatted_code = \"from os.path import basename, exists\\n\\n\\ndef download(url):\\n    filename = basename(url)\\n    if not exists(filename):\\n        from urllib.request import urlretrieve\\n\\n        local, _ = urlretrieve(url, filename)\\n        print(\\\"Downloaded \\\" + local)\\n\\n\\ndownload(\\\"https://github.com/AllenDowney/ThinkStats/raw/v3/nb/thinkstats.py\\\")\";\n",
       "                var nbb_cells = Jupyter.notebook.get_cells();\n",
       "                for (var i = 0; i < nbb_cells.length; ++i) {\n",
       "                    if (nbb_cells[i].input_prompt_number == nbb_cell_id) {\n",
       "                        if (nbb_cells[i].get_text() == nbb_unformatted_code) {\n",
       "                             nbb_cells[i].set_text(nbb_formatted_code);\n",
       "                        }\n",
       "                        break;\n",
       "                    }\n",
       "                }\n",
       "            }, 500);\n",
       "            "
      ],
      "text/plain": [
       "<IPython.core.display.Javascript object>"
      ]
     },
     "metadata": {},
     "output_type": "display_data"
    }
   ],
   "source": [
    "from os.path import basename, exists\n",
    "\n",
    "\n",
    "def download(url):\n",
    "    filename = basename(url)\n",
    "    if not exists(filename):\n",
    "        from urllib.request import urlretrieve\n",
    "\n",
    "        local, _ = urlretrieve(url, filename)\n",
    "        print(\"Downloaded \" + local)\n",
    "\n",
    "\n",
    "download(\"https://github.com/AllenDowney/ThinkStats/raw/v3/nb/thinkstats.py\")"
   ]
  },
  {
   "cell_type": "code",
   "execution_count": 4,
   "id": "b96294dc",
   "metadata": {
    "tags": [
     "remove-print",
     "hide-cell"
    ]
   },
   "outputs": [
    {
     "data": {
      "application/javascript": [
       "\n",
       "            setTimeout(function() {\n",
       "                var nbb_cell_id = 4;\n",
       "                var nbb_unformatted_code = \"try:\\n    import empiricaldist\\nexcept ImportError:\\n    !pip install empiricaldist\";\n",
       "                var nbb_formatted_code = \"try:\\n    import empiricaldist\\nexcept ImportError:\\n    !pip install empiricaldist\";\n",
       "                var nbb_cells = Jupyter.notebook.get_cells();\n",
       "                for (var i = 0; i < nbb_cells.length; ++i) {\n",
       "                    if (nbb_cells[i].input_prompt_number == nbb_cell_id) {\n",
       "                        if (nbb_cells[i].get_text() == nbb_unformatted_code) {\n",
       "                             nbb_cells[i].set_text(nbb_formatted_code);\n",
       "                        }\n",
       "                        break;\n",
       "                    }\n",
       "                }\n",
       "            }, 500);\n",
       "            "
      ],
      "text/plain": [
       "<IPython.core.display.Javascript object>"
      ]
     },
     "metadata": {},
     "output_type": "display_data"
    }
   ],
   "source": [
    "try:\n",
    "    import empiricaldist\n",
    "except ImportError:\n",
    "    !pip install empiricaldist"
   ]
  },
  {
   "cell_type": "code",
   "execution_count": 5,
   "id": "bb3a6450",
   "metadata": {
    "tags": [
     "remove-print",
     "hide-cell"
    ]
   },
   "outputs": [
    {
     "data": {
      "application/javascript": [
       "\n",
       "            setTimeout(function() {\n",
       "                var nbb_cell_id = 5;\n",
       "                var nbb_unformatted_code = \"import numpy as np\\nimport pandas as pd\\nimport matplotlib.pyplot as plt\\n\\nfrom thinkstats import decorate\";\n",
       "                var nbb_formatted_code = \"import numpy as np\\nimport pandas as pd\\nimport matplotlib.pyplot as plt\\n\\nfrom thinkstats import decorate\";\n",
       "                var nbb_cells = Jupyter.notebook.get_cells();\n",
       "                for (var i = 0; i < nbb_cells.length; ++i) {\n",
       "                    if (nbb_cells[i].input_prompt_number == nbb_cell_id) {\n",
       "                        if (nbb_cells[i].get_text() == nbb_unformatted_code) {\n",
       "                             nbb_cells[i].set_text(nbb_formatted_code);\n",
       "                        }\n",
       "                        break;\n",
       "                    }\n",
       "                }\n",
       "            }, 500);\n",
       "            "
      ],
      "text/plain": [
       "<IPython.core.display.Javascript object>"
      ]
     },
     "metadata": {},
     "output_type": "display_data"
    }
   ],
   "source": [
    "import numpy as np\n",
    "import pandas as pd\n",
    "import matplotlib.pyplot as plt\n",
    "\n",
    "from thinkstats import decorate"
   ]
  },
  {
   "cell_type": "code",
   "execution_count": 7,
   "id": "9d2ce265",
   "metadata": {},
   "outputs": [
    {
     "name": "stdout",
     "output_type": "stream",
     "text": [
      "Error decoding JSON: Expecting value: line 1 column 14 (char 13)\n"
     ]
    },
    {
     "data": {
      "text/html": [
       "<div>\n",
       "<style scoped>\n",
       "    .dataframe tbody tr th:only-of-type {\n",
       "        vertical-align: middle;\n",
       "    }\n",
       "\n",
       "    .dataframe tbody tr th {\n",
       "        vertical-align: top;\n",
       "    }\n",
       "\n",
       "    .dataframe thead th {\n",
       "        text-align: right;\n",
       "    }\n",
       "</style>\n",
       "<table border=\"1\" class=\"dataframe\">\n",
       "  <thead>\n",
       "    <tr style=\"text-align: right;\">\n",
       "      <th></th>\n",
       "      <th>series_id</th>\n",
       "      <th>name</th>\n",
       "      <th>units</th>\n",
       "      <th>f</th>\n",
       "      <th>copyright</th>\n",
       "      <th>source</th>\n",
       "      <th>iso3166</th>\n",
       "      <th>lat</th>\n",
       "      <th>lon</th>\n",
       "      <th>geography</th>\n",
       "      <th>start</th>\n",
       "      <th>end</th>\n",
       "      <th>last_updated</th>\n",
       "    </tr>\n",
       "  </thead>\n",
       "  <tbody>\n",
       "    <tr>\n",
       "      <th>0</th>\n",
       "      <td>ELEC.PLANT.GEN.54276-DFO-ST.M</td>\n",
       "      <td>Net generation : Univ of NC Chapel Hill Cogen ...</td>\n",
       "      <td>megawatthours</td>\n",
       "      <td>M</td>\n",
       "      <td>None</td>\n",
       "      <td>EIA, U.S. Energy Information Administration</td>\n",
       "      <td>USA-NC</td>\n",
       "      <td>35.9069</td>\n",
       "      <td>-79.0617</td>\n",
       "      <td>USA-NC</td>\n",
       "      <td>200401</td>\n",
       "      <td>202406</td>\n",
       "      <td>2024-08-23T16:44:50-04:00</td>\n",
       "    </tr>\n",
       "    <tr>\n",
       "      <th>1</th>\n",
       "      <td>ELEC.PLANT.GEN.54276-DFO-ST.Q</td>\n",
       "      <td>Net generation : Univ of NC Chapel Hill Cogen ...</td>\n",
       "      <td>megawatthours</td>\n",
       "      <td>Q</td>\n",
       "      <td>None</td>\n",
       "      <td>EIA, U.S. Energy Information Administration</td>\n",
       "      <td>USA-NC</td>\n",
       "      <td>35.9069</td>\n",
       "      <td>-79.0617</td>\n",
       "      <td>USA-NC</td>\n",
       "      <td>2004Q1</td>\n",
       "      <td>2024Q2</td>\n",
       "      <td>2024-08-23T16:44:50-04:00</td>\n",
       "    </tr>\n",
       "    <tr>\n",
       "      <th>2</th>\n",
       "      <td>ELEC.PLANT.GEN.54276-NG-ALL.M</td>\n",
       "      <td>Net generation : Univ of NC Chapel Hill Cogen ...</td>\n",
       "      <td>megawatthours</td>\n",
       "      <td>M</td>\n",
       "      <td>None</td>\n",
       "      <td>EIA, U.S. Energy Information Administration</td>\n",
       "      <td>USA-NC</td>\n",
       "      <td>35.9069</td>\n",
       "      <td>-79.0617</td>\n",
       "      <td>USA-NC</td>\n",
       "      <td>200101</td>\n",
       "      <td>202406</td>\n",
       "      <td>2024-08-23T16:44:50-04:00</td>\n",
       "    </tr>\n",
       "    <tr>\n",
       "      <th>3</th>\n",
       "      <td>ELEC.PLANT.GEN.54276-NG-ALL.Q</td>\n",
       "      <td>Net generation : Univ of NC Chapel Hill Cogen ...</td>\n",
       "      <td>megawatthours</td>\n",
       "      <td>Q</td>\n",
       "      <td>None</td>\n",
       "      <td>EIA, U.S. Energy Information Administration</td>\n",
       "      <td>USA-NC</td>\n",
       "      <td>35.9069</td>\n",
       "      <td>-79.0617</td>\n",
       "      <td>USA-NC</td>\n",
       "      <td>2001Q1</td>\n",
       "      <td>2024Q2</td>\n",
       "      <td>2024-08-23T16:44:50-04:00</td>\n",
       "    </tr>\n",
       "    <tr>\n",
       "      <th>4</th>\n",
       "      <td>ELEC.PLANT.GEN.54276-NG-ST.M</td>\n",
       "      <td>Net generation : Univ of NC Chapel Hill Cogen ...</td>\n",
       "      <td>megawatthours</td>\n",
       "      <td>M</td>\n",
       "      <td>None</td>\n",
       "      <td>EIA, U.S. Energy Information Administration</td>\n",
       "      <td>USA-NC</td>\n",
       "      <td>35.9069</td>\n",
       "      <td>-79.0617</td>\n",
       "      <td>USA-NC</td>\n",
       "      <td>200301</td>\n",
       "      <td>202406</td>\n",
       "      <td>2024-08-23T16:44:50-04:00</td>\n",
       "    </tr>\n",
       "  </tbody>\n",
       "</table>\n",
       "</div>"
      ],
      "text/plain": [
       "                       series_id  \\\n",
       "0  ELEC.PLANT.GEN.54276-DFO-ST.M   \n",
       "1  ELEC.PLANT.GEN.54276-DFO-ST.Q   \n",
       "2  ELEC.PLANT.GEN.54276-NG-ALL.M   \n",
       "3  ELEC.PLANT.GEN.54276-NG-ALL.Q   \n",
       "4   ELEC.PLANT.GEN.54276-NG-ST.M   \n",
       "\n",
       "                                                name          units  f  \\\n",
       "0  Net generation : Univ of NC Chapel Hill Cogen ...  megawatthours  M   \n",
       "1  Net generation : Univ of NC Chapel Hill Cogen ...  megawatthours  Q   \n",
       "2  Net generation : Univ of NC Chapel Hill Cogen ...  megawatthours  M   \n",
       "3  Net generation : Univ of NC Chapel Hill Cogen ...  megawatthours  Q   \n",
       "4  Net generation : Univ of NC Chapel Hill Cogen ...  megawatthours  M   \n",
       "\n",
       "  copyright                                       source iso3166      lat  \\\n",
       "0      None  EIA, U.S. Energy Information Administration  USA-NC  35.9069   \n",
       "1      None  EIA, U.S. Energy Information Administration  USA-NC  35.9069   \n",
       "2      None  EIA, U.S. Energy Information Administration  USA-NC  35.9069   \n",
       "3      None  EIA, U.S. Energy Information Administration  USA-NC  35.9069   \n",
       "4      None  EIA, U.S. Energy Information Administration  USA-NC  35.9069   \n",
       "\n",
       "        lon geography   start     end               last_updated  \n",
       "0  -79.0617    USA-NC  200401  202406  2024-08-23T16:44:50-04:00  \n",
       "1  -79.0617    USA-NC  2004Q1  2024Q2  2024-08-23T16:44:50-04:00  \n",
       "2  -79.0617    USA-NC  200101  202406  2024-08-23T16:44:50-04:00  \n",
       "3  -79.0617    USA-NC  2001Q1  2024Q2  2024-08-23T16:44:50-04:00  \n",
       "4  -79.0617    USA-NC  200301  202406  2024-08-23T16:44:50-04:00  "
      ]
     },
     "execution_count": 7,
     "metadata": {},
     "output_type": "execute_result"
    },
    {
     "data": {
      "application/javascript": [
       "\n",
       "            setTimeout(function() {\n",
       "                var nbb_cell_id = 7;\n",
       "                var nbb_unformatted_code = \"import json\\nimport pandas as pd\\n\\ndef parse_elec_usage_file(filepath):\\n    with open(filepath, 'r') as file:\\n        lines = file.readlines()\\n        \\n    # Join the lines into a single string and attempt to fix any broken JSON\\n    data_str = ''.join(lines)\\n    \\n    # Split into series based on the presence of \\\"series_id\\\"\\n    series_data = data_str.split('{\\\"series_id\\\":')\\n    \\n    # Initialize a list to store each series as a dictionary\\n    series_list = []\\n    \\n    for i, series in enumerate(series_data):  # Skip the first element since it's empty\\n        series_json_str = '{\\\"series_id\\\":' + series.strip()\\n        \\n        # Clean up the JSON string by removing trailing commas and fixing brackets\\n        series_json_str = series_json_str.rstrip(',')  # Remove trailing comma\\n        if series_json_str[-1] != '}':\\n            series_json_str += '}'  # Ensure the string ends with a closing bracket\\n        \\n        try:\\n            series_dict = json.loads(series_json_str)\\n            series_list.append(series_dict)\\n        except json.JSONDecodeError as e:\\n            print(f\\\"Error decoding JSON: {e}\\\")\\n            continue\\n            \\n        if i > 100:\\n            break\\n\\n    # Create a DataFrame with relevant metadata fields\\n    metadata_fields = [\\\"series_id\\\", \\\"name\\\", \\\"units\\\", \\\"f\\\", \\\"copyright\\\", \\\"source\\\", \\n                       \\\"iso3166\\\", \\\"lat\\\", \\\"lon\\\", \\\"geography\\\", \\\"start\\\", \\\"end\\\", \\\"last_updated\\\"]\\n\\n    df_metadata = pd.DataFrame(series_list, columns=metadata_fields)\\n    \\n    return df_metadata\\n\\n# Example usage:\\ndf = parse_elec_usage_file('ELEC.txt')\\ndf.head()\";\n",
       "                var nbb_formatted_code = \"import json\\nimport pandas as pd\\n\\n\\ndef parse_elec_usage_file(filepath):\\n    with open(filepath, \\\"r\\\") as file:\\n        lines = file.readlines()\\n\\n    # Join the lines into a single string and attempt to fix any broken JSON\\n    data_str = \\\"\\\".join(lines)\\n\\n    # Split into series based on the presence of \\\"series_id\\\"\\n    series_data = data_str.split('{\\\"series_id\\\":')\\n\\n    # Initialize a list to store each series as a dictionary\\n    series_list = []\\n\\n    for i, series in enumerate(series_data):  # Skip the first element since it's empty\\n        series_json_str = '{\\\"series_id\\\":' + series.strip()\\n\\n        # Clean up the JSON string by removing trailing commas and fixing brackets\\n        series_json_str = series_json_str.rstrip(\\\",\\\")  # Remove trailing comma\\n        if series_json_str[-1] != \\\"}\\\":\\n            series_json_str += \\\"}\\\"  # Ensure the string ends with a closing bracket\\n\\n        try:\\n            series_dict = json.loads(series_json_str)\\n            series_list.append(series_dict)\\n        except json.JSONDecodeError as e:\\n            print(f\\\"Error decoding JSON: {e}\\\")\\n            continue\\n\\n        if i > 100:\\n            break\\n\\n    # Create a DataFrame with relevant metadata fields\\n    metadata_fields = [\\n        \\\"series_id\\\",\\n        \\\"name\\\",\\n        \\\"units\\\",\\n        \\\"f\\\",\\n        \\\"copyright\\\",\\n        \\\"source\\\",\\n        \\\"iso3166\\\",\\n        \\\"lat\\\",\\n        \\\"lon\\\",\\n        \\\"geography\\\",\\n        \\\"start\\\",\\n        \\\"end\\\",\\n        \\\"last_updated\\\",\\n    ]\\n\\n    df_metadata = pd.DataFrame(series_list, columns=metadata_fields)\\n\\n    return df_metadata\\n\\n\\n# Example usage:\\ndf = parse_elec_usage_file(\\\"ELEC.txt\\\")\\ndf.head()\";\n",
       "                var nbb_cells = Jupyter.notebook.get_cells();\n",
       "                for (var i = 0; i < nbb_cells.length; ++i) {\n",
       "                    if (nbb_cells[i].input_prompt_number == nbb_cell_id) {\n",
       "                        if (nbb_cells[i].get_text() == nbb_unformatted_code) {\n",
       "                             nbb_cells[i].set_text(nbb_formatted_code);\n",
       "                        }\n",
       "                        break;\n",
       "                    }\n",
       "                }\n",
       "            }, 500);\n",
       "            "
      ],
      "text/plain": [
       "<IPython.core.display.Javascript object>"
      ]
     },
     "metadata": {},
     "output_type": "display_data"
    }
   ],
   "source": [
    "import json\n",
    "import pandas as pd\n",
    "\n",
    "def parse_elec_usage_file(filepath):\n",
    "    with open(filepath, 'r') as file:\n",
    "        lines = file.readlines()\n",
    "        \n",
    "    # Join the lines into a single string and attempt to fix any broken JSON\n",
    "    data_str = ''.join(lines)\n",
    "    \n",
    "    # Split into series based on the presence of \"series_id\"\n",
    "    series_data = data_str.split('{\"series_id\":')\n",
    "    \n",
    "    # Initialize a list to store each series as a dictionary\n",
    "    series_list = []\n",
    "    \n",
    "    for i, series in enumerate(series_data):  # Skip the first element since it's empty\n",
    "        series_json_str = '{\"series_id\":' + series.strip()\n",
    "        \n",
    "        # Clean up the JSON string by removing trailing commas and fixing brackets\n",
    "        series_json_str = series_json_str.rstrip(',')  # Remove trailing comma\n",
    "        if series_json_str[-1] != '}':\n",
    "            series_json_str += '}'  # Ensure the string ends with a closing bracket\n",
    "        \n",
    "        try:\n",
    "            series_dict = json.loads(series_json_str)\n",
    "            series_list.append(series_dict)\n",
    "        except json.JSONDecodeError as e:\n",
    "            print(f\"Error decoding JSON: {e}\")\n",
    "            continue\n",
    "            \n",
    "        if i > 100:\n",
    "            break\n",
    "\n",
    "    # Create a DataFrame with relevant metadata fields\n",
    "    metadata_fields = [\"series_id\", \"name\", \"units\", \"f\", \"copyright\", \"source\", \n",
    "                       \"iso3166\", \"lat\", \"lon\", \"geography\", \"start\", \"end\", \"last_updated\"]\n",
    "\n",
    "    df_metadata = pd.DataFrame(series_list, columns=metadata_fields)\n",
    "    \n",
    "    return df_metadata\n",
    "\n",
    "# Example usage:\n",
    "df = parse_elec_usage_file('ELEC.txt')\n",
    "df.head()\n"
   ]
  },
  {
   "cell_type": "code",
   "execution_count": 8,
   "id": "e5ac48cc",
   "metadata": {},
   "outputs": [
    {
     "name": "stdout",
     "output_type": "stream",
     "text": [
      "-rw-rw-rw- 1 downey downey 1.2G Aug 26 15:39 ELEC.txt\r\n"
     ]
    },
    {
     "data": {
      "application/javascript": [
       "\n",
       "            setTimeout(function() {\n",
       "                var nbb_cell_id = 8;\n",
       "                var nbb_unformatted_code = \"!ls -lh ELEC.txt\";\n",
       "                var nbb_formatted_code = \"!ls -lh ELEC.txt\";\n",
       "                var nbb_cells = Jupyter.notebook.get_cells();\n",
       "                for (var i = 0; i < nbb_cells.length; ++i) {\n",
       "                    if (nbb_cells[i].input_prompt_number == nbb_cell_id) {\n",
       "                        if (nbb_cells[i].get_text() == nbb_unformatted_code) {\n",
       "                             nbb_cells[i].set_text(nbb_formatted_code);\n",
       "                        }\n",
       "                        break;\n",
       "                    }\n",
       "                }\n",
       "            }, 500);\n",
       "            "
      ],
      "text/plain": [
       "<IPython.core.display.Javascript object>"
      ]
     },
     "metadata": {},
     "output_type": "display_data"
    }
   ],
   "source": [
    "!ls -lh ELEC.txt"
   ]
  },
  {
   "cell_type": "code",
   "execution_count": null,
   "id": "a7e3e5db",
   "metadata": {},
   "outputs": [],
   "source": []
  }
 ],
 "metadata": {
  "celltoolbar": "Tags",
  "kernelspec": {
   "display_name": "Python 3 (ipykernel)",
   "language": "python",
   "name": "python3"
  },
  "language_info": {
   "codemirror_mode": {
    "name": "ipython",
    "version": 3
   },
   "file_extension": ".py",
   "mimetype": "text/x-python",
   "name": "python",
   "nbconvert_exporter": "python",
   "pygments_lexer": "ipython3",
   "version": "3.10.14"
  }
 },
 "nbformat": 4,
 "nbformat_minor": 5
}
